{
 "cells": [
  {
   "cell_type": "code",
   "execution_count": 59,
   "metadata": {},
   "outputs": [],
   "source": [
    "import pandas as pd\n",
    "import json\n",
    "from tqdm import tqdm\n",
    "import ast\n",
    "import numpy as np\n",
    "from collections import deque\n",
    "from pandas import DataFrame\n",
    "from collections import defaultdict\n",
    "import pdb"
   ]
  },
  {
   "cell_type": "code",
   "execution_count": null,
   "metadata": {},
   "outputs": [],
   "source": [
    "def str2list(x):\n",
    "    if len(x) > 0:\n",
    "        if x[0] != '[':\n",
    "            list = [x]\n",
    "        else: \n",
    "            list = ast.literal_eval(x)\n",
    "            if len(list) == 0: list = ['Empty']\n",
    "    else: list = ['Empty']\n",
    "\n",
    "    return list"
   ]
  },
  {
   "cell_type": "code",
   "execution_count": null,
   "metadata": {},
   "outputs": [],
   "source": [
    "basic_info = pd.read_csv('/opt/ml/wine/data/basic_info_total.csv', encoding='utf-8-sig')\n",
    "with open('/opt/ml/wine/code/feature_map/item2idx.json','r') as f:\n",
    "    item2idx = json.load(f)"
   ]
  },
  {
   "cell_type": "code",
   "execution_count": null,
   "metadata": {},
   "outputs": [],
   "source": [
    "item_data = pd.read_csv('/opt/ml/wine/server/data/item_df_allfeature.csv', encoding='utf-8-sig')\n",
    "item_data = item_data[item_data['item_id'].isna()==False]\n",
    "item_data.drop_duplicates(subset='item_id', inplace = True)"
   ]
  },
  {
   "cell_type": "code",
   "execution_count": null,
   "metadata": {},
   "outputs": [],
   "source": [
    "wine_df = pd.read_csv('/opt/ml/wine/data/wine_df.csv', encoding='utf-8-sig')"
   ]
  },
  {
   "cell_type": "code",
   "execution_count": null,
   "metadata": {},
   "outputs": [],
   "source": [
    "wine_df['grape'].fillna('[]', inplace = True)\n",
    "wine_df['grape'] = wine_df['grape'].apply(lambda x: str2list(x))"
   ]
  },
  {
   "cell_type": "code",
   "execution_count": null,
   "metadata": {},
   "outputs": [],
   "source": [
    "wine_df['item_id'] = wine_df['url'].map(item2idx)\n",
    "wine_df = wine_df[wine_df['item_id'].isna()==False]\n",
    "wine_df['item_id'] = wine_df['item_id'].astype(int).astype('category')"
   ]
  },
  {
   "cell_type": "code",
   "execution_count": null,
   "metadata": {},
   "outputs": [],
   "source": [
    "basic_info['item_id'] = basic_info['url'].map(item2idx)\n",
    "basic_info = basic_info[basic_info['item_id'].isna()==False]\n",
    "basic_info['item_id'] = basic_info['item_id'].astype(int).astype('category')"
   ]
  },
  {
   "cell_type": "code",
   "execution_count": null,
   "metadata": {},
   "outputs": [],
   "source": [
    "basic_info.set_index('item_id', inplace= True)\n",
    "item_data.set_index('item_id', inplace= True)"
   ]
  },
  {
   "cell_type": "code",
   "execution_count": null,
   "metadata": {},
   "outputs": [],
   "source": [
    "no_key = 0\n",
    "for item_id in tqdm(item_data.index):\n",
    "    try:\n",
    "        item_data.loc[item_id,'winery'] = basic_info.loc[item_id,'winery']\n",
    "        item_data.loc[item_id,'grape'] = basic_info.loc[item_id,'grapes']\n",
    "        item_data.loc[item_id,'country'] = basic_info.loc[item_id,'country']\n",
    "        item_data.loc[item_id,'region'] = basic_info.loc[item_id,'region1']\n",
    "        item_data.loc[item_id,'region2'] = basic_info.loc[item_id,'region2']\n",
    "        item_data.loc[item_id,'region3'] = basic_info.loc[item_id,'region3']\n",
    "        item_data.loc[item_id,'region4'] = basic_info.loc[item_id,'region4']\n",
    "        item_data.loc[item_id,'wine_style'] = basic_info.loc[item_id,'wine_style']\n",
    "        item_data.loc[item_id,'allergens'] = basic_info.loc[item_id,'allergens']\n",
    "        item_data.loc[item_id,'alcohol content'] = basic_info.loc[item_id,'alcohol content']\n",
    "    except KeyError:\n",
    "        try:\n",
    "            item_data.loc[item_id,'grape'] = wine_df.loc[item_id,'grape']\n",
    "        except:\n",
    "            no_key +=1\n",
    "print(no_key)"
   ]
  },
  {
   "cell_type": "code",
   "execution_count": null,
   "metadata": {},
   "outputs": [],
   "source": [
    "item_data['item_id'] = item_data.index"
   ]
  },
  {
   "cell_type": "code",
   "execution_count": null,
   "metadata": {},
   "outputs": [],
   "source": [
    "item_data = pd.read_csv('/opt/ml/wine/data/item_df_allfeature.csv',encoding='utf-8-sig')\n",
    "item_data.rename(columns = {'region':'region1'}, inplace= True)"
   ]
  },
  {
   "cell_type": "code",
   "execution_count": null,
   "metadata": {},
   "outputs": [],
   "source": [
    "with open('/opt/ml/wine/data/sample_vectors.json','r') as f: \n",
    "    sample_vec = json.load(f)"
   ]
  },
  {
   "cell_type": "code",
   "execution_count": null,
   "metadata": {},
   "outputs": [],
   "source": [
    "import re\n",
    "\n",
    "def keep_only_english(text):\n",
    "    try:\n",
    "        english_text = re.sub(r'[^a-zA-Z\\s]', '', text)\n",
    "        return english_text.lower().strip()\n",
    "    except: return None"
   ]
  },
  {
   "cell_type": "code",
   "execution_count": null,
   "metadata": {},
   "outputs": [],
   "source": [
    "def find_vectors(columns_name : deque, grouped_vectors: DataFrame):\n",
    "    column, name = columns_name.popleft()\n",
    "    if name is not None:\n",
    "        grouped_vectors = grouped_vectors.query(f\"{column} == '{name}'\")\n",
    "        if columns_name:\n",
    "            vector = find_vectors(columns_name, grouped_vectors.drop(column,axis = 1))\n",
    "        else: \n",
    "            vector = grouped_vectors.vectors.mean()\n",
    "            \n",
    "        return vector\n",
    "    else:\n",
    "        return grouped_vectors.vectors.mean()\n",
    "\n",
    "def get_item_vector(df, vector_path):\n",
    "    df = df.sort_values(by='item_id', ascending=True)\n",
    "    with open(vector_path,'r') as f: \n",
    "        vectors = json.load(f)\n",
    "    vector_list = []\n",
    "\n",
    "    for id in tqdm(item_data.item_id):\n",
    "        id = str(id)\n",
    "        if id in vectors.keys():\n",
    "            vector_list.append(np.array(vectors[id]))\n",
    "        else:\n",
    "            vector_list.append(None)\n",
    "    df['vectors'] = vector_list\n",
    "    return df\n"
   ]
  },
  {
   "cell_type": "code",
   "execution_count": null,
   "metadata": {},
   "outputs": [],
   "source": [
    "def fill_vectors(df : DataFrame, vector_path: str):\n",
    "    df.drop_duplicates(subset='item_id', keep='first', inplace=True)\n",
    "    columns_to_check = df.columns.drop('item_id')\n",
    "    df.dropna(subset=columns_to_check, how='all', inplace=True)\n",
    "    df = get_item_vector(df, vector_path)\n",
    "\n",
    "    for col in ['country','region1', 'winetype', 'wine_style','region']:\n",
    "        if col in df.columns:\n",
    "            df[col] = df[col].apply(keep_only_english)\n",
    "\n",
    "    grouped_vectors = df[df.vectors.isna()==False].groupby([\n",
    "        'country',\n",
    "        'region1', \n",
    "        'winetype',\n",
    "        'wine_style'\n",
    "    ]).agg({'vectors': 'mean'}).reset_index()\n",
    "\n",
    "    non_vectors = df[df['vectors'].isna()==True]\n",
    "    non_vectors_cols = list(grouped_vectors.columns)\n",
    "    non_vectors_cols.append('item_id')\n",
    "    non_vectors = non_vectors.loc[:, non_vectors_cols]\n",
    "    vectors = []\n",
    "\n",
    "    for index, row in tqdm(non_vectors.iterrows()):\n",
    "        columns_name = deque()\n",
    "\n",
    "        for column, name in zip(row.keys(), row.values):\n",
    "            if column != 'vectors':\n",
    "                columns_name.append((column, name))\n",
    "            else: break\n",
    "        vector = find_vectors(columns_name, grouped_vectors)\n",
    "        vectors.append(vector)\n",
    "    \n",
    "    non_vectors['vectors'] = vectors\n",
    "\n",
    "    not_filled = non_vectors[non_vectors['vectors'].isna()]\n",
    "    filled = non_vectors[non_vectors['vectors'].notna()]\n",
    "\n",
    "    mean_vector = filled['vectors'].mean()\n",
    "\n",
    "    not_filled['vectors'] = [mean_vector for _ in range(len(not_filled))]\n",
    "    \n",
    "    filled_total = pd.concat([filled, not_filled], axis=0)\n",
    "\n",
    "    no_vectors = df[df['vectors'].isna()]\n",
    "    no_vectors.drop('vectors', axis=1, inplace=True)\n",
    "    no_vectors.reset_index(drop=True, inplace=True)  # Use drop=True to reset the index without keeping the old index\n",
    "    no_vectors = no_vectors.sort_values(by='item_id', ascending=True)\n",
    "\n",
    "    yes_vectors = df[df['vectors'].notna()]\n",
    "    yes_vectors.reset_index(drop=True, inplace=True)\n",
    "\n",
    "    if len(set(no_vectors['item_id']).intersection(set(yes_vectors['item_id']))) != 0:\n",
    "        shared_item_ids = set(no_vectors['item_id']).intersection(set(yes_vectors['item_id']))\n",
    "        yes_vectors = yes_vectors[~yes_vectors['item_id'].isin(shared_item_ids)]\n",
    "        \n",
    "    filled_total.reset_index(drop = True, inplace = True)\n",
    "    filled_total = filled_total.sort_values(by='item_id', ascending=True)\n",
    "\n",
    "    no_vectors.set_index('item_id', inplace = True)\n",
    "    no_vectors['item_id'] = no_vectors.index\n",
    "    \n",
    "    yes_vectors.set_index('item_id', inplace = True)\n",
    "    yes_vectors['item_id'] = yes_vectors.index\n",
    "\n",
    "    filled_total.set_index('item_id', inplace = True)\n",
    "    filled_total['item_id'] = filled_total.index\n",
    "    \n",
    "    no_vectors['vectors'] = filled_total['vectors']\n",
    "    no_vectors.reset_index(drop = True, inplace = True)\n",
    "    yes_vectors.reset_index(drop = True, inplace = True)\n",
    "\n",
    "    item_data_with_vectors = pd.concat([no_vectors,yes_vectors], axis=0)\n",
    "    print('item_data_with_vectors')\n",
    "    print(len(item_data_with_vectors.drop_duplicates(subset='item_id')), len(item_data_with_vectors))\n",
    "    \n",
    "    item_data_with_vectors = item_data_with_vectors.sort_values(by='item_id', ascending=True).reset_index(drop = True)\n",
    "    return item_data_with_vectors\n",
    "\n",
    "\n"
   ]
  },
  {
   "cell_type": "code",
   "execution_count": null,
   "metadata": {},
   "outputs": [],
   "source": [
    "item_data_with_vectors = fill_vectors(item_data, '/opt/ml/wine/data/wine_vector.json')"
   ]
  },
  {
   "cell_type": "code",
   "execution_count": null,
   "metadata": {},
   "outputs": [],
   "source": [
    "item_data_with_vectors.to_csv('/opt/ml/wine/data/item_data_vec.csv', index = False, encoding = 'utf-8-sig')"
   ]
  },
  {
   "cell_type": "code",
   "execution_count": null,
   "metadata": {},
   "outputs": [],
   "source": [
    "item_data_with_vectors = pd.read_csv('/opt/ml/wine/data/item_data_sample_vec.csv', encoding = 'utf-8-sig')"
   ]
  },
  {
   "cell_type": "code",
   "execution_count": null,
   "metadata": {},
   "outputs": [],
   "source": [
    "def string2array(x):\n",
    "    x = x.replace('\\n', '').strip('[]')\n",
    "    x_list = [float(i) for i in x.split(' ') if len(i) != 0]\n",
    "    return np.array(x_list)"
   ]
  },
  {
   "cell_type": "code",
   "execution_count": null,
   "metadata": {},
   "outputs": [],
   "source": [
    "item_data_with_vectors['vectors'] = item_data_with_vectors['vectors'].apply(string2array)"
   ]
  },
  {
   "cell_type": "code",
   "execution_count": null,
   "metadata": {},
   "outputs": [],
   "source": [
    "wine_vectors = []\n",
    "for vector in item_data_with_vectors['vectors']:\n",
    "    wine_vectors.append(vector)\n",
    "wine_vectors = np.array(wine_vectors)"
   ]
  },
  {
   "cell_type": "code",
   "execution_count": null,
   "metadata": {},
   "outputs": [],
   "source": [
    "item_to_fill = item_data_with_vectors.iloc[83,:]\n"
   ]
  },
  {
   "cell_type": "code",
   "execution_count": null,
   "metadata": {},
   "outputs": [],
   "source": []
  },
  {
   "cell_type": "code",
   "execution_count": 62,
   "metadata": {},
   "outputs": [],
   "source": [
    "def count_grape(data : pd.DataFrame):\n",
    "    dict = defaultdict(float)\n",
    "    for grapes, dist in zip(data.grape, data.distance):\n",
    "        try: grapes = ast.literal_eval(grapes)\n",
    "        except: pass\n",
    "\n",
    "        for grape in grapes:\n",
    "            try: dict[grape.lower()] += dist\n",
    "            except TypeError as t: continue\n",
    "    return [max(dict , key=lambda k: dict[k])]\n",
    "\n",
    "def count_pairing(data : pd.DataFrame):\n",
    "    dict = defaultdict(float)\n",
    "    for pairings, dist in zip(data.pairing, data.distance):\n",
    "        for menu in pairings.split(' '):\n",
    "            try: dict[menu] += dist\n",
    "            except TypeError as t: continue\n",
    "    return max(dict , key=lambda k: dict[k])\n",
    "\n",
    "def count_most_str(data : pd.DataFrame, column):\n",
    "    dict = defaultdict(float)\n",
    "    for feat, dist in zip(data[column], data.distance):\n",
    "        try:\n",
    "            dict[feat] += dist\n",
    "        except TypeError as t:\n",
    "            continue\n",
    "    return max(dict , key=lambda k: dict[k])\n",
    "\n",
    "def count_most_cont(data : pd.DataFrame, column):\n",
    "    dict = defaultdict(float)\n",
    "    for feat, dist in zip(data[column], data.distance):\n",
    "        try:\n",
    "            dict[feat] += dist\n",
    "        except TypeError as t:\n",
    "            continue\n",
    "    return max(dict , key=lambda k: dict[k])"
   ]
  },
  {
   "cell_type": "code",
   "execution_count": 63,
   "metadata": {},
   "outputs": [],
   "source": [
    "from collections import defaultdict\n",
    "def most_close(sim_items : DataFrame):\n",
    "    result = {}\n",
    "    sim_items.dropna(inplace=True)\n",
    "    for col in sim_items.columns:\n",
    "        if col == 'pairing':\n",
    "            result[col] = count_pairing(sim_items)\n",
    "        elif col == 'grape':\n",
    "            result[col] = count_grape(sim_items)\n",
    "        elif col in ['price', 'wine_rating', 'num_votes',\n",
    "                     'Red Fruit', 'Tropical', 'Tree Fruit', 'Oaky', 'Ageing', 'Black Fruit',\n",
    "                     'Citrus', 'Dried Fruit', 'Earthy', 'Floral', 'Microbio', 'Spices',\n",
    "                     'Vegetal', 'Light', 'Bold', 'Smooth', 'Tannic', 'Dry', 'Sweet', 'Soft',\n",
    "                     'Acidic', 'Fizzy', 'Gentle']:\n",
    "            result[col] = count_most_cont(sim_items, col)\n",
    "        else:\n",
    "            result[col] = count_most_str(sim_items, col)\n",
    "    return result\n"
   ]
  },
  {
   "cell_type": "code",
   "execution_count": 64,
   "metadata": {},
   "outputs": [],
   "source": [
    "import faiss\n",
    "import pdb\n",
    "from pandas import Series\n",
    "\n",
    "wine_vectors = []\n",
    "for vector in item_data_with_vectors['vectors']:\n",
    "    wine_vectors.append(vector)\n",
    "wine_vectors = np.array(wine_vectors)\n",
    "\n",
    "\n",
    "def find_most_sim_item(df : DataFrame, to_fill_item_id: int, wine_vectors : np.array):\n",
    "\n",
    "    ###index should be wine_id/item_id\n",
    "    item_to_fill = item_data_with_vectors.loc[to_fill_item_id,:]\n",
    "\n",
    "    item_vector = item_to_fill.vectors\n",
    "    try:\n",
    "        None_col = list(item_to_fill.index[item_to_fill.isna()])\n",
    "    except: pdb.set_trace()\n",
    "    None_col.append('distance')\n",
    "\n",
    "    item_data_with_vectors.set_index('item_id', inplace=True)\n",
    "    item_data_with_vectors['item_id'] = item_data_with_vectors.index\n",
    "    item_ids = list(item_data_with_vectors['item_id'])\n",
    "    vector_dimension = item_vector.shape[0]\n",
    "\n",
    "    index = faiss.IndexFlatL2(vector_dimension)\n",
    "    index = faiss.IndexIDMap2(index)\n",
    "    index.add_with_ids(wine_vectors, item_ids)\n",
    "\n",
    "    # Faiss expects the query vectors to be normalized\n",
    "    to_search = np.expand_dims(item_vector, axis=0)\n",
    "    to_search = np.ascontiguousarray(to_search.astype(np.float32))\n",
    "    faiss.normalize_L2(to_search)\n",
    "\n",
    "    k = index.ntotal\n",
    "    distances, searched_wine_ids = index.search(to_search, k=20)\n",
    "\n",
    "    result = []\n",
    "    for ids, dists in zip(searched_wine_ids[0], distances[0]): \n",
    "        result.append((ids, dists))\n",
    "\n",
    "    sim_items = item_data_with_vectors.loc[[x[0] for x in result], :]\n",
    "    sim_items['distance'] = 0\n",
    "    sim_items = sim_items.loc[:, None_col]\n",
    "    \n",
    "    \n",
    "    for id, dist in result: sim_items.loc[id, 'distance'] = 1/dist\n",
    "\n",
    "    to_fill = most_close(sim_items)\n",
    "    \n",
    "    for col, val in to_fill.items():\n",
    "        item_data_with_vectors.loc[to_fill_item_id, col] = val\n",
    "\n",
    "    return item_data_with_vectors\n",
    "    "
   ]
  },
  {
   "cell_type": "code",
   "execution_count": 65,
   "metadata": {},
   "outputs": [
    {
     "name": "stderr",
     "output_type": "stream",
     "text": [
      "100%|██████████| 74922/74922 [5:17:23<00:00,  3.93it/s]  \n"
     ]
    }
   ],
   "source": [
    "for id in tqdm(item_data_with_vectors.index):\n",
    "    item_data_with_vectors = find_most_sim_item(item_data_with_vectors, id, wine_vectors)"
   ]
  },
  {
   "cell_type": "code",
   "execution_count": null,
   "metadata": {},
   "outputs": [],
   "source": [
    "def count_most_cont(data : pd.DataFrame, column):\n",
    "    dict = defaultdict(float)\n",
    "    data.dropna(inplace = True)\n",
    "    total_sum = data['distance'].sum()\n",
    "\n",
    "    # Make the smallest value to 1 and scale other values accordingly\n",
    "    data['distance'] = data['distance'] / total_sum\n",
    "\n",
    "    result = 0\n",
    "    for feat, dist in zip(data[column], data.distance):\n",
    "        try:\n",
    "            result += dist * feat\n",
    "        except TypeError as t:\n",
    "            continue\n",
    "    return result"
   ]
  },
  {
   "cell_type": "code",
   "execution_count": null,
   "metadata": {},
   "outputs": [],
   "source": [
    "sim_items['price']"
   ]
  },
  {
   "cell_type": "code",
   "execution_count": null,
   "metadata": {},
   "outputs": [],
   "source": []
  }
 ],
 "metadata": {
  "kernelspec": {
   "display_name": "base",
   "language": "python",
   "name": "python3"
  },
  "language_info": {
   "codemirror_mode": {
    "name": "ipython",
    "version": 3
   },
   "file_extension": ".py",
   "mimetype": "text/x-python",
   "name": "python",
   "nbconvert_exporter": "python",
   "pygments_lexer": "ipython3",
   "version": "3.8.5"
  },
  "orig_nbformat": 4
 },
 "nbformat": 4,
 "nbformat_minor": 2
}
