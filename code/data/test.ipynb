{
 "cells": [
  {
   "cell_type": "code",
   "execution_count": null,
   "metadata": {},
   "outputs": [],
   "source": [
    "import pandas as pd\n",
    "import numpy as np\n",
    "import joblib\n",
    "import ast\n",
    "from joblib import Parallel, delayed\n",
    "import json\n",
    "import os\n",
    "from tqdm import tqdm"
   ]
  },
  {
   "cell_type": "code",
   "execution_count": null,
   "metadata": {},
   "outputs": [],
   "source": [
    "item_data = pd.read_csv('/opt/ml/wine/data/wine_df.csv')"
   ]
  },
  {
   "cell_type": "code",
   "execution_count": null,
   "metadata": {},
   "outputs": [],
   "source": [
    "def drop_columns(df):\n",
    "    to_drop = ['Red Fruit','Tropical','Tree Fruit','Oaky',\n",
    "               'Ageing','Black Fruit','Citrus','Dried Fruit','Earthy',\n",
    "               'Floral','Microbio','Spices', 'Vegetal',\n",
    "               'Unnamed: 58', 'None_child', 'Unnamed: 60', 'Unnamed: 61', \n",
    "               'Unnamed: 62', 'Unnamed: 63', 'Unnamed: 64']\n",
    "    \n",
    "    for c in to_drop:\n",
    "        try:\n",
    "            df.drop(c, axis = 1, inplace= True)  \n",
    "        except Exception as e: \n",
    "            print(e)\n",
    "    \n",
    "    return df\n",
    "\n",
    "def fill_na(df):\n",
    "    with open('/opt/ml/wine/code/data/meta_data/string_columns.json','r',encoding='utf-8') as f:  \n",
    "        col = json.load(f)\n",
    "        df[col] = df[col].fillna('')\n",
    "    with open('/opt/ml/wine/code/data/meta_data/dict_columns.json','r',encoding='utf-8') as f:  \n",
    "        col = json.load(f)\n",
    "        df[col] = df[col].fillna('{}')\n",
    "    with open('/opt/ml/wine/code/data/meta_data/list_columns.json','r',encoding='utf-8') as f:  \n",
    "        col = json.load(f)\n",
    "        df[col] = df[col].fillna('[]')\n",
    "    return df"
   ]
  },
  {
   "cell_type": "code",
   "execution_count": null,
   "metadata": {},
   "outputs": [],
   "source": [
    "item_data = fill_na(item_data)\n",
    "item_data = drop_columns(item_data)"
   ]
  },
  {
   "cell_type": "code",
   "execution_count": null,
   "metadata": {},
   "outputs": [],
   "source": [
    "notes = ['Red Fruit','Tropical','Tree Fruit','Oaky',\n",
    "        'Ageing','Black Fruit','Citrus','Dried Fruit','Earthy',\n",
    "        'Floral','Microbio','Spices', 'Vegetal']\n"
   ]
  },
  {
   "cell_type": "code",
   "execution_count": 53,
   "metadata": {},
   "outputs": [],
   "source": [
    "def str2list(x):\n",
    "    if len(x) > 0:\n",
    "        if x[0] != '[':\n",
    "            list = [x]\n",
    "        else: \n",
    "            list = ast.literal_eval(x)\n",
    "    else: list = []\n",
    "    \n",
    "    return list\n",
    "\n",
    "def feature_mapper(df, column):\n",
    "    unique_val = df[column].unique()\n",
    "    feature2idx = {f:i for i, f in enumerate(unique_val)}\n",
    "    idx2feature = {i:f for i, f in enumerate(unique_val)}\n",
    "\n",
    "    if not os.path.exists('/opt/ml/wine/code/meta_data/'): \n",
    "        os.makedirs('/opt/ml/wine/code/meta_data/')\n",
    "\n",
    "    with open(f'/opt/ml/wine/code/feature_map/{column}2idx.json','w',encoding='utf-8') as f:  \n",
    "        json.dump(feature2idx, f, ensure_ascii=False)\n",
    "    with open(f'/opt/ml/wine/code/feature_map/idx2{column}.json','w',encoding='utf-8') as f:  \n",
    "        json.dump(idx2feature, f, ensure_ascii=False)\n",
    "\n",
    "    return feature2idx, idx2feature\n",
    "\n",
    "def list_feature_mapper(df, column):\n",
    "\n",
    "    df[column] = df[column].apply(lambda x: str2list(x))\n",
    "\n",
    "    exploded = item_data[column].explode(column)\n",
    "    unique_val = set(list(exploded))\n",
    "    feature_dic = {}\n",
    "\n",
    "    feature2idx = {f:i for i, f in enumerate(unique_val)}\n",
    "    idx2feature = {i:f for i, f in enumerate(unique_val)}\n",
    "\n",
    "    if not os.path.exists('/opt/ml/wine/code/meta_data/'): \n",
    "        os.makedirs('/opt/ml/wine/code/meta_data/')\n",
    "\n",
    "    with open(f'/opt/ml/wine/code/feature_map/{column}2idx.json','w',encoding='utf-8') as f:  \n",
    "        json.dump(feature2idx, f, ensure_ascii=False)\n",
    "    with open(f'/opt/ml/wine/code/feature_map/idx2{column}.json','w',encoding='utf-8') as f:  \n",
    "        json.dump(idx2feature, f, ensure_ascii=False)\n",
    "\n",
    "    return df, feature2idx, idx2feature\n",
    "\n",
    "def map_all_single_features(df):\n",
    "    single_category_columns = ['country', 'region', 'winery', 'winetype', 'vintage', 'house', 'wine_style']\n",
    "    for c in single_category_columns:\n",
    "        feature_mapper(df, c)\n",
    "    return  \n",
    "\n",
    "def map_all_list_features(df):\n",
    "    list_columns = ['grape','pairing']\n",
    "    for c in list_columns:\n",
    "        df ,_ ,_ = list_feature_mapper(df, c)\n",
    "    return df \n",
    "\n",
    "\n",
    "def note_mapper(df, note_col):\n",
    "\n",
    "    note = note_col\n",
    "\n",
    "    note_col = note_col + '_child'\n",
    "    note_col = note_col.replace(' ','_')\n",
    "    \n",
    "    try:\n",
    "        df[note_col] = df[note_col].apply(lambda x: ast.literal_eval(x))\n",
    "    except Exception as e:\n",
    "        print(e)\n",
    "    \n",
    "    unique_val = []\n",
    "    for note_dic in df[note_col]:\n",
    "        unique_val.extend(list(note_dic.keys()))\n",
    "    unique_val = list(set(unique_val))\n",
    "\n",
    "    feature2idx = {f:i for i, f in enumerate(unique_val)}\n",
    "    idx2feature = {i:f for i, f in enumerate(unique_val)}\n",
    "\n",
    "    if not os.path.exists('/opt/ml/wine/code/meta_data/'): \n",
    "        os.makedirs('/opt/ml/wine/code/meta_data/')\n",
    "\n",
    "    with open(f'/opt/ml/wine/code/feature_map/{note}2idx.json','w',encoding='utf-8') as f:  \n",
    "        json.dump(feature2idx, f, ensure_ascii=False)\n",
    "    with open(f'/opt/ml/wine/code/feature_map/idx2{note}.json','w',encoding='utf-8') as f:  \n",
    "        json.dump(idx2feature, f, ensure_ascii=False)\n",
    "\n",
    "    return feature2idx, idx2feature\n",
    "\n",
    "def expand_notes(df):\n",
    "    notes = ['Red Fruit','Tropical','Tree Fruit','Oaky',\n",
    "        'Ageing','Black Fruit','Citrus','Dried Fruit','Earthy',\n",
    "        'Floral','Microbio','Spices', 'Vegetal']\n",
    "    \n",
    "    i = 0\n",
    "    for note_col in tqdm(notes):\n",
    "\n",
    "        note_df = []\n",
    "\n",
    "        feature2idx, idx2feature = note_mapper(df, note_col)\n",
    "\n",
    "        for note_dic in tqdm(df[note_col.replace(' ','_') + '_child']):\n",
    "            row_data = [0 for i in range(len(feature2idx))]\n",
    "\n",
    "            for note in note_dic:\n",
    "                row_data[feature2idx[note]] = note_dic[note]\n",
    "  \n",
    "            note_df.append(row_data)\n",
    "        \n",
    "        columns = [idx2feature[i] for i in range(len(idx2feature))]\n",
    "        note_df = pd.DataFrame(note_df, columns=columns)\n",
    "\n",
    "        if i == 0:\n",
    "            result = note_df\n",
    "            i += 1\n",
    "        else:\n",
    "            result = pd.concat([result, note_df], axis=1)\n",
    "\n",
    "        df.drop(note_col.replace(' ','_') + '_child', axis = True, inplace = True)\n",
    "\n",
    "    df = pd.concat([df, result], axis=1)\n",
    "    return df\n",
    "  "
   ]
  },
  {
   "cell_type": "code",
   "execution_count": 54,
   "metadata": {},
   "outputs": [
    {
     "name": "stderr",
     "output_type": "stream",
     "text": [
      "  0%|          | 0/13 [00:00<?, ?it/s]"
     ]
    },
    {
     "name": "stdout",
     "output_type": "stream",
     "text": [
      "'Red_Fruit_child'\n"
     ]
    },
    {
     "name": "stderr",
     "output_type": "stream",
     "text": [
      "\n"
     ]
    },
    {
     "ename": "KeyError",
     "evalue": "'Red_Fruit_child'",
     "output_type": "error",
     "traceback": [
      "\u001b[0;31m---------------------------------------------------------------------------\u001b[0m",
      "\u001b[0;31mKeyError\u001b[0m                                  Traceback (most recent call last)",
      "File \u001b[0;32m/opt/conda/lib/python3.8/site-packages/pandas/core/indexes/base.py:3652\u001b[0m, in \u001b[0;36mIndex.get_loc\u001b[0;34m(self, key)\u001b[0m\n\u001b[1;32m   3651\u001b[0m \u001b[39mtry\u001b[39;00m:\n\u001b[0;32m-> 3652\u001b[0m     \u001b[39mreturn\u001b[39;00m \u001b[39mself\u001b[39;49m\u001b[39m.\u001b[39;49m_engine\u001b[39m.\u001b[39;49mget_loc(casted_key)\n\u001b[1;32m   3653\u001b[0m \u001b[39mexcept\u001b[39;00m \u001b[39mKeyError\u001b[39;00m \u001b[39mas\u001b[39;00m err:\n",
      "File \u001b[0;32m/opt/conda/lib/python3.8/site-packages/pandas/_libs/index.pyx:147\u001b[0m, in \u001b[0;36mpandas._libs.index.IndexEngine.get_loc\u001b[0;34m()\u001b[0m\n",
      "File \u001b[0;32m/opt/conda/lib/python3.8/site-packages/pandas/_libs/index.pyx:176\u001b[0m, in \u001b[0;36mpandas._libs.index.IndexEngine.get_loc\u001b[0;34m()\u001b[0m\n",
      "File \u001b[0;32mpandas/_libs/hashtable_class_helper.pxi:7080\u001b[0m, in \u001b[0;36mpandas._libs.hashtable.PyObjectHashTable.get_item\u001b[0;34m()\u001b[0m\n",
      "File \u001b[0;32mpandas/_libs/hashtable_class_helper.pxi:7088\u001b[0m, in \u001b[0;36mpandas._libs.hashtable.PyObjectHashTable.get_item\u001b[0;34m()\u001b[0m\n",
      "\u001b[0;31mKeyError\u001b[0m: 'Red_Fruit_child'",
      "\nThe above exception was the direct cause of the following exception:\n",
      "\u001b[0;31mKeyError\u001b[0m                                  Traceback (most recent call last)",
      "\u001b[1;32m/opt/ml/wine/code/data/test.ipynb Cell 7\u001b[0m in \u001b[0;36m<cell line: 1>\u001b[0;34m()\u001b[0m\n\u001b[0;32m----> <a href='vscode-notebook-cell://ssh-remote%2B115.85.183.238/opt/ml/wine/code/data/test.ipynb#X51sdnNjb2RlLXJlbW90ZQ%3D%3D?line=0'>1</a>\u001b[0m item_data \u001b[39m=\u001b[39m expand_notes(item_data)\n",
      "\u001b[1;32m/opt/ml/wine/code/data/test.ipynb Cell 7\u001b[0m in \u001b[0;36mexpand_notes\u001b[0;34m(df)\u001b[0m\n\u001b[1;32m     <a href='vscode-notebook-cell://ssh-remote%2B115.85.183.238/opt/ml/wine/code/data/test.ipynb#X51sdnNjb2RlLXJlbW90ZQ%3D%3D?line=95'>96</a>\u001b[0m \u001b[39mfor\u001b[39;00m note_col \u001b[39min\u001b[39;00m tqdm(notes):\n\u001b[1;32m     <a href='vscode-notebook-cell://ssh-remote%2B115.85.183.238/opt/ml/wine/code/data/test.ipynb#X51sdnNjb2RlLXJlbW90ZQ%3D%3D?line=97'>98</a>\u001b[0m     note_df \u001b[39m=\u001b[39m []\n\u001b[0;32m--> <a href='vscode-notebook-cell://ssh-remote%2B115.85.183.238/opt/ml/wine/code/data/test.ipynb#X51sdnNjb2RlLXJlbW90ZQ%3D%3D?line=99'>100</a>\u001b[0m     feature2idx, idx2feature \u001b[39m=\u001b[39m note_mapper(df, note_col)\n\u001b[1;32m    <a href='vscode-notebook-cell://ssh-remote%2B115.85.183.238/opt/ml/wine/code/data/test.ipynb#X51sdnNjb2RlLXJlbW90ZQ%3D%3D?line=101'>102</a>\u001b[0m     \u001b[39mfor\u001b[39;00m note_dic \u001b[39min\u001b[39;00m tqdm(df[note_col\u001b[39m.\u001b[39mreplace(\u001b[39m'\u001b[39m\u001b[39m \u001b[39m\u001b[39m'\u001b[39m,\u001b[39m'\u001b[39m\u001b[39m_\u001b[39m\u001b[39m'\u001b[39m) \u001b[39m+\u001b[39m \u001b[39m'\u001b[39m\u001b[39m_child\u001b[39m\u001b[39m'\u001b[39m]):\n\u001b[1;32m    <a href='vscode-notebook-cell://ssh-remote%2B115.85.183.238/opt/ml/wine/code/data/test.ipynb#X51sdnNjb2RlLXJlbW90ZQ%3D%3D?line=102'>103</a>\u001b[0m         row_data \u001b[39m=\u001b[39m [\u001b[39m0\u001b[39m \u001b[39mfor\u001b[39;00m i \u001b[39min\u001b[39;00m \u001b[39mrange\u001b[39m(\u001b[39mlen\u001b[39m(feature2idx))]\n",
      "\u001b[1;32m/opt/ml/wine/code/data/test.ipynb Cell 7\u001b[0m in \u001b[0;36mnote_mapper\u001b[0;34m(df, note_col)\u001b[0m\n\u001b[1;32m     <a href='vscode-notebook-cell://ssh-remote%2B115.85.183.238/opt/ml/wine/code/data/test.ipynb#X51sdnNjb2RlLXJlbW90ZQ%3D%3D?line=69'>70</a>\u001b[0m     \u001b[39mprint\u001b[39m(e)\n\u001b[1;32m     <a href='vscode-notebook-cell://ssh-remote%2B115.85.183.238/opt/ml/wine/code/data/test.ipynb#X51sdnNjb2RlLXJlbW90ZQ%3D%3D?line=71'>72</a>\u001b[0m unique_val \u001b[39m=\u001b[39m []\n\u001b[0;32m---> <a href='vscode-notebook-cell://ssh-remote%2B115.85.183.238/opt/ml/wine/code/data/test.ipynb#X51sdnNjb2RlLXJlbW90ZQ%3D%3D?line=72'>73</a>\u001b[0m \u001b[39mfor\u001b[39;00m note_dic \u001b[39min\u001b[39;00m df[note_col]:\n\u001b[1;32m     <a href='vscode-notebook-cell://ssh-remote%2B115.85.183.238/opt/ml/wine/code/data/test.ipynb#X51sdnNjb2RlLXJlbW90ZQ%3D%3D?line=73'>74</a>\u001b[0m     unique_val\u001b[39m.\u001b[39mextend(\u001b[39mlist\u001b[39m(note_dic\u001b[39m.\u001b[39mkeys()))\n\u001b[1;32m     <a href='vscode-notebook-cell://ssh-remote%2B115.85.183.238/opt/ml/wine/code/data/test.ipynb#X51sdnNjb2RlLXJlbW90ZQ%3D%3D?line=74'>75</a>\u001b[0m unique_val \u001b[39m=\u001b[39m \u001b[39mlist\u001b[39m(\u001b[39mset\u001b[39m(unique_val))\n",
      "File \u001b[0;32m/opt/conda/lib/python3.8/site-packages/pandas/core/frame.py:3761\u001b[0m, in \u001b[0;36mDataFrame.__getitem__\u001b[0;34m(self, key)\u001b[0m\n\u001b[1;32m   3759\u001b[0m \u001b[39mif\u001b[39;00m \u001b[39mself\u001b[39m\u001b[39m.\u001b[39mcolumns\u001b[39m.\u001b[39mnlevels \u001b[39m>\u001b[39m \u001b[39m1\u001b[39m:\n\u001b[1;32m   3760\u001b[0m     \u001b[39mreturn\u001b[39;00m \u001b[39mself\u001b[39m\u001b[39m.\u001b[39m_getitem_multilevel(key)\n\u001b[0;32m-> 3761\u001b[0m indexer \u001b[39m=\u001b[39m \u001b[39mself\u001b[39;49m\u001b[39m.\u001b[39;49mcolumns\u001b[39m.\u001b[39;49mget_loc(key)\n\u001b[1;32m   3762\u001b[0m \u001b[39mif\u001b[39;00m is_integer(indexer):\n\u001b[1;32m   3763\u001b[0m     indexer \u001b[39m=\u001b[39m [indexer]\n",
      "File \u001b[0;32m/opt/conda/lib/python3.8/site-packages/pandas/core/indexes/base.py:3654\u001b[0m, in \u001b[0;36mIndex.get_loc\u001b[0;34m(self, key)\u001b[0m\n\u001b[1;32m   3652\u001b[0m     \u001b[39mreturn\u001b[39;00m \u001b[39mself\u001b[39m\u001b[39m.\u001b[39m_engine\u001b[39m.\u001b[39mget_loc(casted_key)\n\u001b[1;32m   3653\u001b[0m \u001b[39mexcept\u001b[39;00m \u001b[39mKeyError\u001b[39;00m \u001b[39mas\u001b[39;00m err:\n\u001b[0;32m-> 3654\u001b[0m     \u001b[39mraise\u001b[39;00m \u001b[39mKeyError\u001b[39;00m(key) \u001b[39mfrom\u001b[39;00m \u001b[39merr\u001b[39;00m\n\u001b[1;32m   3655\u001b[0m \u001b[39mexcept\u001b[39;00m \u001b[39mTypeError\u001b[39;00m:\n\u001b[1;32m   3656\u001b[0m     \u001b[39m# If we have a listlike key, _check_indexing_error will raise\u001b[39;00m\n\u001b[1;32m   3657\u001b[0m     \u001b[39m#  InvalidIndexError. Otherwise we fall through and re-raise\u001b[39;00m\n\u001b[1;32m   3658\u001b[0m     \u001b[39m#  the TypeError.\u001b[39;00m\n\u001b[1;32m   3659\u001b[0m     \u001b[39mself\u001b[39m\u001b[39m.\u001b[39m_check_indexing_error(key)\n",
      "\u001b[0;31mKeyError\u001b[0m: 'Red_Fruit_child'"
     ]
    }
   ],
   "source": [
    "map_all_single_features(item_data)\n",
    "item_data = map_all_list_features(item_data)\n",
    "item_data = expand_notes(item_data)"
   ]
  },
  {
   "cell_type": "code",
   "execution_count": null,
   "metadata": {},
   "outputs": [],
   "source": [
    "\n"
   ]
  },
  {
   "cell_type": "code",
   "execution_count": 48,
   "metadata": {},
   "outputs": [
    {
     "data": {
      "text/plain": [
       "Index(['url', 'country', 'region', 'winery', 'winetype', 'grape', 'name',\n",
       "       'vintage', 'house', 'price', 'rating', 'num_votes', 'star5', 'star4',\n",
       "       'star3', 'star2', 'star1', 'pairing', 'wine_style', 'Red Fruit_count',\n",
       "       'Red_Fruit_child', 'Tropical_count', 'Tropical_child',\n",
       "       'Tree Fruit_count', 'Tree_Fruit_child', 'Oaky_count', 'Oaky_child',\n",
       "       'Ageing_child', 'Ageing_count', 'Black Fruit_count',\n",
       "       'Black_Fruit_child', 'Citrus_child', 'Citrus_count',\n",
       "       'Dried Fruit_count', 'Dried_Fruit_child', 'Earthy_child',\n",
       "       'Earthy_count', 'Floral_child', 'Floral_count', 'Microbio_child',\n",
       "       'Microbio_count', 'Spices_child', 'Spices_count', 'Vegetal_child',\n",
       "       'Vegetal_count', 'None_count'],\n",
       "      dtype='object')"
      ]
     },
     "execution_count": 48,
     "metadata": {},
     "output_type": "execute_result"
    }
   ],
   "source": [
    "item_data.columns"
   ]
  },
  {
   "cell_type": "code",
   "execution_count": null,
   "metadata": {},
   "outputs": [],
   "source": [
    "de"
   ]
  }
 ],
 "metadata": {
  "kernelspec": {
   "display_name": "base",
   "language": "python",
   "name": "python3"
  },
  "language_info": {
   "codemirror_mode": {
    "name": "ipython",
    "version": 3
   },
   "file_extension": ".py",
   "mimetype": "text/x-python",
   "name": "python",
   "nbconvert_exporter": "python",
   "pygments_lexer": "ipython3",
   "version": "3.8.5"
  },
  "orig_nbformat": 4
 },
 "nbformat": 4,
 "nbformat_minor": 2
}
