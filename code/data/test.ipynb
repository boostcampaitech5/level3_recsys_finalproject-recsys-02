{
 "cells": [
  {
   "cell_type": "code",
   "execution_count": 22,
   "metadata": {},
   "outputs": [],
   "source": [
    "import pandas as pd\n",
    "import numpy as np\n",
    "import joblib\n",
    "import ast\n",
    "from joblib import Parallel, delayed\n",
    "import json\n",
    "import os\n"
   ]
  },
  {
   "cell_type": "code",
   "execution_count": 12,
   "metadata": {},
   "outputs": [],
   "source": [
    "item_data = pd.read_csv('/opt/ml/wine/data/wine_df.csv')"
   ]
  },
  {
   "cell_type": "code",
   "execution_count": 58,
   "metadata": {},
   "outputs": [
    {
     "ename": "ValueError",
     "evalue": "Must specify a fill 'value' or 'method'.",
     "output_type": "error",
     "traceback": [
      "\u001b[0;31m---------------------------------------------------------------------------\u001b[0m",
      "\u001b[0;31mValueError\u001b[0m                                Traceback (most recent call last)",
      "\u001b[1;32mUntitled-1.ipynb Cell 3\u001b[0m in \u001b[0;36m<cell line: 1>\u001b[0;34m()\u001b[0m\n\u001b[0;32m----> <a href='vscode-notebook-cell:Untitled-1.ipynb?jupyter-notebook#X21sdW50aXRsZWQ%3D?line=0'>1</a>\u001b[0m item_data \u001b[39m=\u001b[39m item_data\u001b[39m.\u001b[39;49mfillna(\u001b[39mNone\u001b[39;49;00m)\n",
      "File \u001b[0;32m/opt/conda/lib/python3.8/site-packages/pandas/core/frame.py:5493\u001b[0m, in \u001b[0;36mDataFrame.fillna\u001b[0;34m(self, value, method, axis, inplace, limit, downcast)\u001b[0m\n\u001b[1;32m   5482\u001b[0m \u001b[39m@doc\u001b[39m(NDFrame\u001b[39m.\u001b[39mfillna, \u001b[39m*\u001b[39m\u001b[39m*\u001b[39m_shared_doc_kwargs)\n\u001b[1;32m   5483\u001b[0m \u001b[39mdef\u001b[39;00m \u001b[39mfillna\u001b[39m(\n\u001b[1;32m   5484\u001b[0m     \u001b[39mself\u001b[39m,\n\u001b[0;32m   (...)\u001b[0m\n\u001b[1;32m   5491\u001b[0m     downcast: \u001b[39mdict\u001b[39m \u001b[39m|\u001b[39m \u001b[39mNone\u001b[39;00m \u001b[39m=\u001b[39m \u001b[39mNone\u001b[39;00m,\n\u001b[1;32m   5492\u001b[0m ) \u001b[39m-\u001b[39m\u001b[39m>\u001b[39m DataFrame \u001b[39m|\u001b[39m \u001b[39mNone\u001b[39;00m:\n\u001b[0;32m-> 5493\u001b[0m     \u001b[39mreturn\u001b[39;00m \u001b[39msuper\u001b[39;49m()\u001b[39m.\u001b[39;49mfillna(\n\u001b[1;32m   5494\u001b[0m         value\u001b[39m=\u001b[39;49mvalue,\n\u001b[1;32m   5495\u001b[0m         method\u001b[39m=\u001b[39;49mmethod,\n\u001b[1;32m   5496\u001b[0m         axis\u001b[39m=\u001b[39;49maxis,\n\u001b[1;32m   5497\u001b[0m         inplace\u001b[39m=\u001b[39;49minplace,\n\u001b[1;32m   5498\u001b[0m         limit\u001b[39m=\u001b[39;49mlimit,\n\u001b[1;32m   5499\u001b[0m         downcast\u001b[39m=\u001b[39;49mdowncast,\n\u001b[1;32m   5500\u001b[0m     )\n",
      "File \u001b[0;32m/opt/conda/lib/python3.8/site-packages/pandas/core/generic.py:6859\u001b[0m, in \u001b[0;36mNDFrame.fillna\u001b[0;34m(self, value, method, axis, inplace, limit, downcast)\u001b[0m\n\u001b[1;32m   6746\u001b[0m \u001b[39m\"\"\"\u001b[39;00m\n\u001b[1;32m   6747\u001b[0m \u001b[39mFill NA/NaN values using the specified method.\u001b[39;00m\n\u001b[1;32m   6748\u001b[0m \n\u001b[0;32m   (...)\u001b[0m\n\u001b[1;32m   6856\u001b[0m \u001b[39mNote that column D is not affected since it is not present in df2.\u001b[39;00m\n\u001b[1;32m   6857\u001b[0m \u001b[39m\"\"\"\u001b[39;00m\n\u001b[1;32m   6858\u001b[0m inplace \u001b[39m=\u001b[39m validate_bool_kwarg(inplace, \u001b[39m\"\u001b[39m\u001b[39minplace\u001b[39m\u001b[39m\"\u001b[39m)\n\u001b[0;32m-> 6859\u001b[0m value, method \u001b[39m=\u001b[39m validate_fillna_kwargs(value, method)\n\u001b[1;32m   6861\u001b[0m \u001b[39m# set the default here, so functions examining the signaure\u001b[39;00m\n\u001b[1;32m   6862\u001b[0m \u001b[39m# can detect if something was set (e.g. in groupby) (GH9221)\u001b[39;00m\n\u001b[1;32m   6863\u001b[0m \u001b[39mif\u001b[39;00m axis \u001b[39mis\u001b[39;00m \u001b[39mNone\u001b[39;00m:\n",
      "File \u001b[0;32m/opt/conda/lib/python3.8/site-packages/pandas/util/_validators.py:288\u001b[0m, in \u001b[0;36mvalidate_fillna_kwargs\u001b[0;34m(value, method, validate_scalar_dict_value)\u001b[0m\n\u001b[1;32m    285\u001b[0m \u001b[39mfrom\u001b[39;00m \u001b[39mpandas\u001b[39;00m\u001b[39m.\u001b[39;00m\u001b[39mcore\u001b[39;00m\u001b[39m.\u001b[39;00m\u001b[39mmissing\u001b[39;00m \u001b[39mimport\u001b[39;00m clean_fill_method\n\u001b[1;32m    287\u001b[0m \u001b[39mif\u001b[39;00m value \u001b[39mis\u001b[39;00m \u001b[39mNone\u001b[39;00m \u001b[39mand\u001b[39;00m method \u001b[39mis\u001b[39;00m \u001b[39mNone\u001b[39;00m:\n\u001b[0;32m--> 288\u001b[0m     \u001b[39mraise\u001b[39;00m \u001b[39mValueError\u001b[39;00m(\u001b[39m\"\u001b[39m\u001b[39mMust specify a fill \u001b[39m\u001b[39m'\u001b[39m\u001b[39mvalue\u001b[39m\u001b[39m'\u001b[39m\u001b[39m or \u001b[39m\u001b[39m'\u001b[39m\u001b[39mmethod\u001b[39m\u001b[39m'\u001b[39m\u001b[39m.\u001b[39m\u001b[39m\"\u001b[39m)\n\u001b[1;32m    289\u001b[0m \u001b[39mif\u001b[39;00m value \u001b[39mis\u001b[39;00m \u001b[39mNone\u001b[39;00m \u001b[39mand\u001b[39;00m method \u001b[39mis\u001b[39;00m \u001b[39mnot\u001b[39;00m \u001b[39mNone\u001b[39;00m:\n\u001b[1;32m    290\u001b[0m     method \u001b[39m=\u001b[39m clean_fill_method(method)\n",
      "\u001b[0;31mValueError\u001b[0m: Must specify a fill 'value' or 'method'."
     ]
    }
   ],
   "source": []
  },
  {
   "cell_type": "code",
   "execution_count": 10,
   "metadata": {},
   "outputs": [],
   "source": [
    "notes = ['Red Fruit','Tropical','Tree Fruit','Oaky',\n",
    "        'Ageing','Black Fruit','Citrus','Dried Fruit','Earthy',\n",
    "        'Floral','Microbio','Spices', 'Vegetal']\n",
    "\n",
    "def drop_columns(df):\n",
    "    to_drop = ['Red Fruit','Tropical','Tree Fruit','Oaky',\n",
    "               'Ageing','Black Fruit','Citrus','Dried Fruit','Earthy',\n",
    "               'Floral','Microbio','Spices', 'Vegetal',\n",
    "\n",
    "               'Unnamed: 58', 'None_count', 'Unnamed: 60', 'Unnamed: 61', \n",
    "               'Unnamed: 62', 'Unnamed: 63', 'Unnamed: 64']\n",
    "    \n",
    "    df.drop(to_drop, axis = 1, inplace= True)\n",
    "    \n",
    "    return df"
   ]
  },
  {
   "cell_type": "code",
   "execution_count": 66,
   "metadata": {},
   "outputs": [],
   "source": [
    "def feature_mapper(df, column):\n",
    "    unique_val = df[column].unique()\n",
    "    feature2idx = {f:i for i, f in enumerate(unique_val)}\n",
    "    idx2feature = {i:f for i, f in enumerate(unique_val)}\n",
    "\n",
    "    if not os.path.exists('/opt/ml/wine/code/meta_data/'): \n",
    "        os.makedirs('/opt/ml/wine/code/meta_data/')\n",
    "\n",
    "    with open(f'/opt/ml/wine/code/feature_map/{column}2idx.json','w',encoding='utf-8') as f:  \n",
    "        json.dump(feature2idx, f, ensure_ascii=False)\n",
    "    with open(f'/opt/ml/wine/code/feature_map/idx2{column}.json','w',encoding='utf-8') as f:  \n",
    "        json.dump(idx2feature, f, ensure_ascii=False)\n",
    "\n",
    "    return feature2idx, idx2feature\n",
    "\n",
    "def map_all_single_features(df):\n",
    "    single_category_columns = ['country', 'region', 'winery', 'winetype', 'vintage', 'house', 'wine_style']\n",
    "    for c in single_category_columns:\n",
    "        feature_mapper(df, c)\n",
    "\n",
    "    return \n",
    "\n",
    "def str2list(x):\n",
    "    if x[0] != '[':\n",
    "        list = [x]\n",
    "    else: \n",
    "        list = ast.literal_eval(x)\n",
    "\n",
    "    return list\n",
    "\n",
    "def multi_feature_mapper(df, column):\n",
    "\n",
    "    df[column] = df[column].apply(x = lambda x: str2list(str))\n",
    "\n",
    "    if not os.path.exists('/opt/ml/wine/code/meta_data/'): \n",
    "        os.makedirs('/opt/ml/wine/code/meta_data/')\n",
    "\n",
    "    with open(f'/opt/ml/wine/code/feature_map/{column}2idx.json','w',encoding='utf-8') as f:  \n",
    "        json.dump(feature2idx, f, ensure_ascii=False)\n",
    "    with open(f'/opt/ml/wine/code/feature_map/idx2{column}.json','w',encoding='utf-8') as f:  \n",
    "        json.dump(idx2feature, f, ensure_ascii=False)\n",
    "\n",
    "    return feature2idx, idx2feature"
   ]
  },
  {
   "cell_type": "code",
   "execution_count": 35,
   "metadata": {},
   "outputs": [],
   "source": [
    "map_all_single_features(item_data)"
   ]
  },
  {
   "cell_type": "code",
   "execution_count": null,
   "metadata": {},
   "outputs": [],
   "source": [
    "string_columns  = single_category_columns = ['country', 'region', 'winery', 'winetype', 'vintage', 'house', 'wine_style']"
   ]
  },
  {
   "cell_type": "code",
   "execution_count": 60,
   "metadata": {},
   "outputs": [],
   "source": [
    "string_columns = ['url', 'country', 'region', 'winery', 'winetype',  'name',\n",
    "                           'house', 'wine_style']\n",
    "list_columns = ['grape','pairing']\n",
    "\n",
    "continous_columns = ['price', 'rating', 'num_votes', \n",
    "                     'star5', 'star4','star3', 'star2', 'star1', \n",
    "                     'Red Fruit_count','Tropical_count', 'Tree Fruit_count',\n",
    "                     'Oaky_count', 'Ageing_count', 'Black Fruit_count','Citrus_count',\n",
    "                     'Dried Fruit_count',  'Earthy_count',  'Floral_count', \n",
    "                     'Microbio_count',  'Spices_count', 'Vegetal_count']\n",
    "\n",
    "dict_columns = ['Red_Fruit_child', 'Tree_Fruit_child','Oaky_child',\n",
    "                'Ageing_child', 'Citrus_child','Tropical_child',\n",
    "                'Black_Fruit_child', 'Dried_Fruit_child', 'Earthy_child',\n",
    "                'Floral_child', 'Microbio_child','Spices_child', 'Vegetal_child']\n",
    "\n",
    "\n",
    "with open(f'/opt/ml/wine/code/data/meta_data/dict_columns.json','w',encoding='utf-8') as f:  \n",
    "        json.dump(dict_columns , f, ensure_ascii=False)\n",
    "with open(f'/opt/ml/wine/code/data/meta_data/continous_columns.json','w',encoding='utf-8') as f:  \n",
    "        json.dump(continous_columns, f, ensure_ascii=False)\n",
    "with open(f'/opt/ml/wine/code/data/meta_data/list_columns.json','w',encoding='utf-8') as f:  \n",
    "        json.dump(list_columns, f, ensure_ascii=False)\n",
    "with open(f'/opt/ml/wine/code/data/meta_data/string_columns.json','w',encoding='utf-8') as f:  \n",
    "        json.dump(string_columns, f, ensure_ascii=False)"
   ]
  },
  {
   "cell_type": "code",
   "execution_count": 63,
   "metadata": {},
   "outputs": [],
   "source": [
    "def fill_na(df):\n",
    "    with open(f'/opt/ml/wine/code/data/meta_data/dict_columns.json','r',encoding='utf-8') as f:  \n",
    "        dic_c = json.load(f)\n",
    "\n",
    "    with open(f'/opt/ml/wine/code/data/meta_data/continous_columns.json','r',encoding='utf-8') as f:  \n",
    "        con_c = json.load(f)\n",
    "\n",
    "    with open(f'/opt/ml/wine/code/data/meta_data/list_columns.json','r',encoding='utf-8') as f:  \n",
    "        list_c = json.load(f)\n",
    "\n",
    "    with open(f'/opt/ml/wine/code/data/meta_data/string_columns.json','r',encoding='utf-8') as f:  \n",
    "        str_c = json.load(f)\n",
    "\n",
    "    df[dic_c] = df[dic_c].fillna(\"{}\")\n",
    "    df[con_c] = df[con_c].fillna(np.nan)\n",
    "    df[list_c] = df[list_c].fillna(\"[]\")    \n",
    "    df[str_c] = df[str_c].fillna(\"\")\n",
    "\n",
    "    return df\n"
   ]
  },
  {
   "cell_type": "code",
   "execution_count": 64,
   "metadata": {},
   "outputs": [],
   "source": [
    "item_data = fill_na(item_data)"
   ]
  },
  {
   "cell_type": "code",
   "execution_count": 68,
   "metadata": {},
   "outputs": [],
   "source": [
    "item_data['grape'] = item_data['grape'].apply(lambda x: str2list(x))\n"
   ]
  },
  {
   "cell_type": "code",
   "execution_count": null,
   "metadata": {},
   "outputs": [],
   "source": []
  }
 ],
 "metadata": {
  "kernelspec": {
   "display_name": "base",
   "language": "python",
   "name": "python3"
  },
  "language_info": {
   "codemirror_mode": {
    "name": "ipython",
    "version": 3
   },
   "file_extension": ".py",
   "mimetype": "text/x-python",
   "name": "python",
   "nbconvert_exporter": "python",
   "pygments_lexer": "ipython3",
   "version": "3.8.5"
  },
  "orig_nbformat": 4
 },
 "nbformat": 4,
 "nbformat_minor": 2
}
