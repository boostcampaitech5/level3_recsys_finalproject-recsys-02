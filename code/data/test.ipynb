{
 "cells": [
  {
   "cell_type": "code",
   "execution_count": null,
   "metadata": {},
   "outputs": [],
   "source": [
    "import pandas as pd\n",
    "import numpy as np\n",
    "import joblib\n",
    "import ast\n",
    "from joblib import Parallel, delayed\n",
    "import json\n",
    "import os\n",
    "from tqdm import tqdm"
   ]
  },
  {
   "cell_type": "code",
   "execution_count": null,
   "metadata": {},
   "outputs": [],
   "source": [
    "item_data = pd.read_csv('/opt/ml/wine/data/wine_df.csv')"
   ]
  },
  {
   "cell_type": "code",
   "execution_count": null,
   "metadata": {},
   "outputs": [],
   "source": [
    "def drop_columns(df):\n",
    "    to_drop = ['Red Fruit','Tropical','Tree Fruit','Oaky',\n",
    "               'Ageing','Black Fruit','Citrus','Dried Fruit','Earthy',\n",
    "               'Floral','Microbio','Spices', 'Vegetal',\n",
    "               'Unnamed: 58', 'None_child', 'Unnamed: 60', 'Unnamed: 61', \n",
    "               'Unnamed: 62', 'Unnamed: 63', 'Unnamed: 64']\n",
    "    \n",
    "    for c in to_drop:\n",
    "        try:\n",
    "            df.drop(c, axis = 1, inplace= True)  \n",
    "        except Exception as e: \n",
    "            print(e)\n",
    "    \n",
    "    return df\n",
    "\n",
    "def fill_na(df):\n",
    "    with open('/opt/ml/wine/code/data/meta_data/string_columns.json','r',encoding='utf-8') as f:  \n",
    "        col = json.load(f)\n",
    "        df[col] = df[col].fillna('')\n",
    "    with open('/opt/ml/wine/code/data/meta_data/dict_columns.json','r',encoding='utf-8') as f:  \n",
    "        col = json.load(f)\n",
    "        df[col] = df[col].fillna('{}')\n",
    "    with open('/opt/ml/wine/code/data/meta_data/list_columns.json','r',encoding='utf-8') as f:  \n",
    "        col = json.load(f)\n",
    "        df[col] = df[col].fillna('[]')\n",
    "    return df"
   ]
  },
  {
   "cell_type": "code",
   "execution_count": 58,
   "metadata": {},
   "outputs": [
    {
     "name": "stdout",
     "output_type": "stream",
     "text": [
      "\"['None_child'] not found in axis\"\n"
     ]
    }
   ],
   "source": [
    "item_data = fill_na(item_data)\n",
    "item_data = drop_columns(item_data)"
   ]
  },
  {
   "cell_type": "code",
   "execution_count": 59,
   "metadata": {},
   "outputs": [],
   "source": [
    "notes = ['Red Fruit','Tropical','Tree Fruit','Oaky',\n",
    "        'Ageing','Black Fruit','Citrus','Dried Fruit','Earthy',\n",
    "        'Floral','Microbio','Spices', 'Vegetal']\n"
   ]
  },
  {
   "cell_type": "code",
   "execution_count": 60,
   "metadata": {},
   "outputs": [],
   "source": [
    "def str2list(x):\n",
    "    if len(x) > 0:\n",
    "        if x[0] != '[':\n",
    "            list = [x]\n",
    "        else: \n",
    "            list = ast.literal_eval(x)\n",
    "    else: list = []\n",
    "    \n",
    "    return list\n",
    "\n",
    "def feature_mapper(df, column):\n",
    "    unique_val = df[column].unique()\n",
    "    feature2idx = {f:i for i, f in enumerate(unique_val)}\n",
    "    idx2feature = {i:f for i, f in enumerate(unique_val)}\n",
    "\n",
    "    if not os.path.exists('/opt/ml/wine/code/meta_data/'): \n",
    "        os.makedirs('/opt/ml/wine/code/meta_data/')\n",
    "\n",
    "    with open(f'/opt/ml/wine/code/feature_map/{column}2idx.json','w',encoding='utf-8') as f:  \n",
    "        json.dump(feature2idx, f, ensure_ascii=False)\n",
    "    with open(f'/opt/ml/wine/code/feature_map/idx2{column}.json','w',encoding='utf-8') as f:  \n",
    "        json.dump(idx2feature, f, ensure_ascii=False)\n",
    "\n",
    "    return feature2idx, idx2feature\n",
    "\n",
    "def list_feature_mapper(df, column):\n",
    "\n",
    "    df[column] = df[column].apply(lambda x: str2list(x))\n",
    "\n",
    "    exploded = item_data[column].explode(column)\n",
    "    unique_val = set(list(exploded))\n",
    "    feature_dic = {}\n",
    "\n",
    "    feature2idx = {f:i for i, f in enumerate(unique_val)}\n",
    "    idx2feature = {i:f for i, f in enumerate(unique_val)}\n",
    "\n",
    "    if not os.path.exists('/opt/ml/wine/code/meta_data/'): \n",
    "        os.makedirs('/opt/ml/wine/code/meta_data/')\n",
    "\n",
    "    with open(f'/opt/ml/wine/code/feature_map/{column}2idx.json','w',encoding='utf-8') as f:  \n",
    "        json.dump(feature2idx, f, ensure_ascii=False)\n",
    "    with open(f'/opt/ml/wine/code/feature_map/idx2{column}.json','w',encoding='utf-8') as f:  \n",
    "        json.dump(idx2feature, f, ensure_ascii=False)\n",
    "\n",
    "    return df, feature2idx, idx2feature\n",
    "\n",
    "def map_all_single_features(df):\n",
    "    single_category_columns = ['country', 'region', 'winery', 'winetype', 'vintage', 'house', 'wine_style']\n",
    "    for c in single_category_columns:\n",
    "        feature_mapper(df, c)\n",
    "    return  \n",
    "\n",
    "def map_all_list_features(df):\n",
    "    list_columns = ['grape','pairing']\n",
    "    for c in list_columns:\n",
    "        df ,_ ,_ = list_feature_mapper(df, c)\n",
    "    return df \n",
    "\n",
    "\n",
    "def note_mapper(df, note_col):\n",
    "\n",
    "    note = note_col\n",
    "\n",
    "    note_col = note_col + '_child'\n",
    "    note_col = note_col.replace(' ','_')\n",
    "    \n",
    "    try:\n",
    "        df[note_col] = df[note_col].apply(lambda x: ast.literal_eval(x))\n",
    "    except Exception as e:\n",
    "        print(e)\n",
    "    \n",
    "    unique_val = []\n",
    "    for note_dic in df[note_col]:\n",
    "        unique_val.extend(list(note_dic.keys()))\n",
    "    unique_val = list(set(unique_val))\n",
    "\n",
    "    feature2idx = {f:i for i, f in enumerate(unique_val)}\n",
    "    idx2feature = {i:f for i, f in enumerate(unique_val)}\n",
    "\n",
    "    if not os.path.exists('/opt/ml/wine/code/meta_data/'): \n",
    "        os.makedirs('/opt/ml/wine/code/meta_data/')\n",
    "\n",
    "    with open(f'/opt/ml/wine/code/feature_map/{note}2idx.json','w',encoding='utf-8') as f:  \n",
    "        json.dump(feature2idx, f, ensure_ascii=False)\n",
    "    with open(f'/opt/ml/wine/code/feature_map/idx2{note}.json','w',encoding='utf-8') as f:  \n",
    "        json.dump(idx2feature, f, ensure_ascii=False)\n",
    "\n",
    "    return feature2idx, idx2feature\n",
    "\n",
    "def expand_notes(df):\n",
    "    notes = ['Red Fruit','Tropical','Tree Fruit','Oaky',\n",
    "        'Ageing','Black Fruit','Citrus','Dried Fruit','Earthy',\n",
    "        'Floral','Microbio','Spices', 'Vegetal']\n",
    "    \n",
    "    i = 0\n",
    "    for note_col in tqdm(notes):\n",
    "\n",
    "        note_df = []\n",
    "\n",
    "        feature2idx, idx2feature = note_mapper(df, note_col)\n",
    "\n",
    "        for note_dic in tqdm(df[note_col.replace(' ','_') + '_child']):\n",
    "            row_data = [0 for i in range(len(feature2idx))]\n",
    "\n",
    "            for note in note_dic:\n",
    "                row_data[feature2idx[note]] = note_dic[note]\n",
    "  \n",
    "            note_df.append(row_data)\n",
    "        \n",
    "        columns = [idx2feature[i] for i in range(len(idx2feature))]\n",
    "        note_df = pd.DataFrame(note_df, columns=columns)\n",
    "\n",
    "        if i == 0:\n",
    "            result = note_df\n",
    "            i += 1\n",
    "        else:\n",
    "            result = pd.concat([result, note_df], axis=1)\n",
    "\n",
    "        df.drop(note_col.replace(' ','_') + '_child', axis = True, inplace = True)\n",
    "\n",
    "    df = pd.concat([df, result], axis=1)\n",
    "    return df\n",
    "  "
   ]
  },
  {
   "cell_type": "code",
   "execution_count": 61,
   "metadata": {},
   "outputs": [
    {
     "name": "stderr",
     "output_type": "stream",
     "text": [
      "100%|██████████| 77834/77834 [00:00<00:00, 123438.43it/s]\n",
      "100%|██████████| 77834/77834 [00:00<00:00, 440574.99it/s]\n",
      "100%|██████████| 77834/77834 [00:00<00:00, 277462.38it/s]\n",
      "100%|██████████| 77834/77834 [00:00<00:00, 102804.04it/s]\n",
      "100%|██████████| 77834/77834 [00:00<00:00, 287393.99it/s]\n",
      "100%|██████████| 77834/77834 [00:00<00:00, 249694.79it/s]\n",
      "100%|██████████| 77834/77834 [00:00<00:00, 144319.22it/s]\n",
      "100%|██████████| 77834/77834 [00:00<00:00, 436518.41it/s]\n",
      "100%|██████████| 77834/77834 [00:00<00:00, 111863.32it/s]\n",
      "100%|██████████| 77834/77834 [00:00<00:00, 298654.98it/s]\n",
      "100%|██████████| 77834/77834 [00:00<00:00, 153797.63it/s]\n",
      "100%|██████████| 77834/77834 [00:00<00:00, 160188.55it/s]\n",
      "100%|██████████| 77834/77834 [00:00<00:00, 312132.57it/s]\n",
      "100%|██████████| 13/13 [00:54<00:00,  4.18s/it]\n"
     ]
    }
   ],
   "source": [
    "map_all_single_features(item_data)\n",
    "item_data = map_all_list_features(item_data)\n",
    "item_data = expand_notes(item_data)"
   ]
  },
  {
   "cell_type": "code",
   "execution_count": 66,
   "metadata": {},
   "outputs": [],
   "source": [
    "item_data.to_csv('/opt/ml/wine/data/item_data.csv', encoding='utf-8-sig')"
   ]
  },
  {
   "cell_type": "code",
   "execution_count": null,
   "metadata": {},
   "outputs": [],
   "source": []
  }
 ],
 "metadata": {
  "kernelspec": {
   "display_name": "base",
   "language": "python",
   "name": "python3"
  },
  "language_info": {
   "codemirror_mode": {
    "name": "ipython",
    "version": 3
   },
   "file_extension": ".py",
   "mimetype": "text/x-python",
   "name": "python",
   "nbconvert_exporter": "python",
   "pygments_lexer": "ipython3",
   "version": "3.8.5"
  },
  "orig_nbformat": 4
 },
 "nbformat": 4,
 "nbformat_minor": 2
}
