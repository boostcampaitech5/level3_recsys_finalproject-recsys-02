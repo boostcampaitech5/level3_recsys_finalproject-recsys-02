{
 "cells": [
  {
   "cell_type": "code",
   "execution_count": 2,
   "metadata": {},
   "outputs": [],
   "source": [
    "import pandas as pd\n",
    "import json\n",
    "rating_table = pd.read_csv('/opt/ml/rating_table.csv', encoding='utf-8-sig')"
   ]
  },
  {
   "cell_type": "code",
   "execution_count": 6,
   "metadata": {},
   "outputs": [],
   "source": [
    "\n",
    "rating_table['user_id'] = rating_table['user_id'].apply(lambda x: x.replace(' ','_'))"
   ]
  },
  {
   "cell_type": "code",
   "execution_count": 8,
   "metadata": {},
   "outputs": [],
   "source": [
    "unique_val = rating_table['user_id'].unique()\n",
    "feature2idx = {f:i for i, f in enumerate(unique_val)}\n",
    "idx2feature = {i:f for i, f in enumerate(unique_val)}\n"
   ]
  },
  {
   "cell_type": "code",
   "execution_count": 11,
   "metadata": {},
   "outputs": [
    {
     "name": "stderr",
     "output_type": "stream",
     "text": [
      "100%|██████████| 23413/23413 [00:02<00:00, 11218.86it/s]\n"
     ]
    }
   ],
   "source": [
    "user_data = []\n",
    "from tqdm import tqdm\n",
    "done = set()\n",
    "for i in tqdm(range(len(rating_table))):\n",
    "    dic = rating_table.iloc[i].to_dict()\n",
    "    if feature2idx[dic['user_id']] not in done:\n",
    "        tmp = {}\n",
    "        tmp['user_id'] = feature2idx[dic['user_id']]\n",
    "        tmp['nation'] = dic['nation']\n",
    "        tmp['gender'] = dic['gender']\n",
    "        user_data.append(tmp)\n",
    "        done.add(feature2idx[dic['user_id']])"
   ]
  },
  {
   "cell_type": "code",
   "execution_count": 13,
   "metadata": {},
   "outputs": [],
   "source": [
    "with open(f'/opt/ml/user_data.json','w',encoding='utf-8') as f:  \n",
    "        json.dump(user_data, f, ensure_ascii=False)"
   ]
  },
  {
   "cell_type": "code",
   "execution_count": null,
   "metadata": {},
   "outputs": [],
   "source": []
  }
 ],
 "metadata": {
  "kernelspec": {
   "display_name": "base",
   "language": "python",
   "name": "python3"
  },
  "language_info": {
   "codemirror_mode": {
    "name": "ipython",
    "version": 3
   },
   "file_extension": ".py",
   "mimetype": "text/x-python",
   "name": "python",
   "nbconvert_exporter": "python",
   "pygments_lexer": "ipython3",
   "version": "3.8.5"
  },
  "orig_nbformat": 4
 },
 "nbformat": 4,
 "nbformat_minor": 2
}
