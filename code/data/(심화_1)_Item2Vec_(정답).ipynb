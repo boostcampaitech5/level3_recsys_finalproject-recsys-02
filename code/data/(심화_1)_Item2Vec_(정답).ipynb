{
  "cells": [
    {
      "cell_type": "markdown",
      "id": "c26f3f32",
      "metadata": {
        "id": "c26f3f32"
      },
      "source": [
        "# Recommender System - 심화 과제 \\#1 (답안)"
      ]
    },
    {
      "cell_type": "markdown",
      "id": "d383f82d",
      "metadata": {
        "id": "d383f82d"
      },
      "source": [
        "## 개요\n",
        "\n",
        "Item2Vec을 PyTorch로 구현해본다.\n",
        "\n",
        "- Item2Vec에 가장 적합한 데이터는 유저 혹은 세션 단위로 비슷한 의도를 가지고 아이템을 소비한 로그입니다\n",
        "- 무비렌즈 데이터는 Item2Vec을 수행하기에 적합한 데이터는 아니지만 Item2Vec을 통한 연관 추천의 결과가 잘 드러나기 때문에 해당 데이터를 실습으로 사용하겠습니다.\n",
        "\n",
        "\n",
        "- 과제는 **<font color=#5F71F7>과제 HOMEWORK</font>** 라는 키워드로 표시하였습니다.\n",
        "- <code><font color=#007979># FILL HERE : ... #</font></code>라고 쓰여 있는 부분을 채워넣으시면 됩니다.\n",
        "\n",
        "\n",
        "- **그 외의 부분은 따로 건드리지 않으셔도 됩니다.**\n",
        "\n",
        "- **제출은 따로 하지 않습니다.**\n",
        "\n",
        "---"
      ]
    },
    {
      "cell_type": "markdown",
      "id": "b8b1156d",
      "metadata": {
        "id": "b8b1156d"
      },
      "source": [
        "## 0. 전처리\n",
        "\n",
        "### 0.1. 기본 설정"
      ]
    },
    {
      "cell_type": "code",
      "execution_count": 1,
      "id": "c25aad1a",
      "metadata": {
        "id": "c25aad1a"
      },
      "outputs": [],
      "source": [
        "from typing import Union, Tuple, List\n",
        "\n",
        "import numpy as np\n",
        "import random\n",
        "import pandas as pd\n",
        "from datetime import datetime, date\n",
        "from tqdm.notebook import tqdm\n",
        "from sklearn.metrics import log_loss, accuracy_score, precision_score, recall_score\n",
        "from tqdm import tqdm\n",
        "\n",
        "import matplotlib.pyplot as plt\n",
        "# import seaborn as sns\n",
        "%matplotlib inline\n",
        "\n",
        "# from IPython.display import Image\n",
        "from joblib import Parallel, delayed\n",
        "import torch\n",
        "import torch.nn as nn\n",
        "from torch.nn.init import normal_\n",
        "from torch.utils.data import TensorDataset, DataLoader"
      ]
    },
    {
      "cell_type": "code",
      "execution_count": 2,
      "id": "af48b5b7",
      "metadata": {
        "id": "af48b5b7"
      },
      "outputs": [],
      "source": [
        "###############################################################################\n",
        "# 주어진 결과와 정확히 비교하기 위한 random seed 고정\n",
        "###############################################################################\n",
        "\n",
        "seed = 0  # 바꾸지 마시오!\n",
        "random.seed(seed)\n",
        "np.random.seed(seed)"
      ]
    },
    {
      "cell_type": "markdown",
      "id": "8939e931",
      "metadata": {
        "id": "8939e931"
      },
      "source": [
        "### 0.2. MovieLens 데이터셋 불러오기\n",
        "\n",
        "\n",
        "#### 활용 데이터셋 : MovieLens 100k Dataset\n",
        "\n",
        "- 출처 :\n",
        "    <br>Harper, F. M., & Konstan, J. A. (2015). **The MovieLens Datasets: History and Context.** ACM Transactions on Interactive Intelligent Systems (TIIS), 5(4), 1-19. http://dx.doi.org/10.1145/2827872\n",
        "    \n",
        "    \n",
        "- 본 데이터셋은 직접 GroupLens 측을 통해 Naver Boostcamp RecSys 강좌 내에서 활용 및 재배포를 허가받은 데이터셋입니다.\n",
        "    <br> 과제 외의 목적으로 이용하고자 할 경우 [원시 데이터](https://grouplens.org/datasets/movielens/)를 직접 다운받아 사용하시기 바랍니다.\n",
        "    <br> ( 각 데이터셋에 대한 README.txt 파일을 통해 라이센스 정보를 확인하실 수 있습니다. )"
      ]
    },
    {
      "cell_type": "code",
      "execution_count": 3,
      "id": "292c72e4",
      "metadata": {
        "id": "292c72e4"
      },
      "outputs": [],
      "source": [
        "import os"
      ]
    },
    {
      "cell_type": "code",
      "execution_count": 4,
      "id": "d3fb86dd",
      "metadata": {
        "id": "d3fb86dd"
      },
      "outputs": [],
      "source": [
        "# 평점 데이터\n",
        "ratings_df = pd.read_csv('/opt/ml/wine/dataset/train_data/train_data.inter', sep='\\t', encoding='utf-8')\n",
        "\n",
        "# 영화 데이터\n",
        "items_df = pd.read_csv('/opt/ml/wine/dataset/train_data/train_data.item', sep='\\t', encoding='utf-8')\n"
      ]
    },
    {
      "cell_type": "code",
      "execution_count": null,
      "id": "2010174f",
      "metadata": {
        "id": "2010174f"
      },
      "outputs": [],
      "source": []
    },
    {
      "cell_type": "code",
      "execution_count": 5,
      "id": "7d7e6286",
      "metadata": {
        "id": "7d7e6286"
      },
      "outputs": [],
      "source": [
        "from sklearn.model_selection import train_test_split\n",
        "\n",
        "ratings_df['liked'] = np.where(ratings_df['user_rating:float'] >= 4, 1, 0)\n",
        "ratings_df['item_id:token'] = ratings_df['item_id:token']\n",
        "ratings_df['user_id:token'] = ratings_df['user_id:token']\n"
      ]
    },
    {
      "cell_type": "markdown",
      "id": "02e6eb74",
      "metadata": {
        "id": "02e6eb74"
      },
      "source": [
        "### 0.3. MovieLens 데이터에서 positive sample 뽑기"
      ]
    },
    {
      "cell_type": "code",
      "execution_count": 6,
      "id": "13957a6d",
      "metadata": {
        "id": "13957a6d"
      },
      "outputs": [],
      "source": [
        "positive_samples = ratings_df.copy()\n",
        "positive_samples = positive_samples[positive_samples['liked'] == 1]\n",
        "positive_samples = positive_samples[['user_id:token', 'item_id:token', 'liked']]"
      ]
    },
    {
      "cell_type": "code",
      "execution_count": 7,
      "id": "2f82dc47",
      "metadata": {
        "id": "2f82dc47"
      },
      "outputs": [],
      "source": [
        "# 단어가 최소 3회 이상 등장해야 학습되고 모델에 저장됨\n",
        "min_count = 3\n",
        "# 1개의 positive sample당 negative sample의 개수\n",
        "negative = 5"
      ]
    },
    {
      "cell_type": "code",
      "execution_count": 8,
      "id": "5a5f4ef3",
      "metadata": {
        "id": "5a5f4ef3"
      },
      "outputs": [],
      "source": [
        "movie_ids_for_training = list()\n",
        "for movie_id in ratings_df['item_id:token'].unique():\n",
        "    if positive_samples[positive_samples['item_id:token'] == movie_id].shape[0] >= min_count:\n",
        "        movie_ids_for_training.append(movie_id)"
      ]
    },
    {
      "cell_type": "code",
      "execution_count": 9,
      "id": "b114814b",
      "metadata": {},
      "outputs": [
        {
          "name": "stdout",
          "output_type": "stream",
          "text": [
            "Parallelizing with 8cores\n"
          ]
        },
        {
          "name": "stderr",
          "output_type": "stream",
          "text": [
            "100%|██████████| 28870/28870 [06:49<00:00, 70.44it/s]\n",
            "100%|██████████| 28870/28870 [06:51<00:00, 70.21it/s]\n",
            " 98%|█████████▊| 28263/28870 [06:54<00:13, 43.49it/s]\n",
            "100%|██████████| 28870/28870 [06:54<00:00, 69.65it/s]\n",
            "100%|██████████| 28870/28870 [06:56<00:00, 69.24it/s]\n",
            "100%|██████████| 28871/28871 [06:57<00:00, 69.16it/s]\n",
            "100%|██████████| 28870/28870 [06:59<00:00, 68.81it/s]\n",
            "100%|██████████| 28870/28870 [07:03<00:00, 68.14it/s]\n"
          ]
        }
      ],
      "source": [
        "def sampler(movie_ids, user_ids):\n",
        "        \n",
        "    new_positive_samples = dict()\n",
        "    new_positive_samples['user_id:token'] = list()\n",
        "    new_positive_samples['w_movie_id'] = list()\n",
        "    new_positive_samples['c_movie_id'] = list()\n",
        "\n",
        "    user_negative_samples = dict()\n",
        "\n",
        "    for user_id in tqdm(user_ids):\n",
        "        user_positive_samples = positive_samples[positive_samples['user_id:token'] == user_id]\n",
        "        user_movies = user_positive_samples['item_id:token'].tolist()\n",
        "        # sampling을 위해 각 user id의 negative movies를 저장\n",
        "        user_neg_movies = [movie_id for movie_id in movie_ids if movie_id not in user_movies]\n",
        "        user_negative_samples[user_id] = np.array(user_neg_movies)\n",
        "        for w_movie_id in user_movies:\n",
        "            # 단어가 최소 등장 횟수를 만족하지 않음\n",
        "            if w_movie_id not in movie_ids_for_training:\n",
        "                continue\n",
        "            for c_movie_id in user_movies:\n",
        "                if c_movie_id == w_movie_id:\n",
        "                    continue\n",
        "                new_positive_samples['user_id:token'].append(user_id)\n",
        "                new_positive_samples['w_movie_id'].append(w_movie_id)\n",
        "                new_positive_samples['c_movie_id'].append(c_movie_id)\n",
        "    \n",
        "    return [new_positive_samples, user_negative_samples]\n",
        "\n",
        "\n",
        "def parallel(func, movie_ids, user_ids, num_cpu):\n",
        "\n",
        "    user_chunks = np.array_split(user_ids, num_cpu)\n",
        "\n",
        "    print('Parallelizing with ' +str(num_cpu)+'cores')\n",
        "    with Parallel(n_jobs = num_cpu, backend=\"multiprocessing\") as parallel:\n",
        "        results = parallel(delayed(func)(movie_ids, user_chunks[i]) for i in range(num_cpu))\n",
        "\n",
        "    for i,data in enumerate(results):\n",
        "        if i == 0:\n",
        "            pos = data[0]\n",
        "            neg = data[1]\n",
        "        else:\n",
        "            pos.update(data[0])\n",
        "            neg.update(data[1])\n",
        "\n",
        "    return pd.DataFrame(pos), neg\n",
        "\n",
        "movie_ids = ratings_df['item_id:token'].unique()\n",
        "user_ids = ratings_df['user_id:token'].unique()\n",
        "import random\n",
        "sample_size = len(user_ids) // 5\n",
        "sampled_users =  np.random.choice(user_ids, sample_size)\n",
        "\n",
        "new_positive_samples, user_negative_samples = parallel(sampler, movie_ids, sampled_users, 8)\n"
      ]
    },
    {
      "cell_type": "code",
      "execution_count": null,
      "id": "e88ae7e6",
      "metadata": {
        "id": "e88ae7e6"
      },
      "outputs": [
        {
          "name": "stderr",
          "output_type": "stream",
          "text": [
            "100%|██████████| 209358/209358 [00:27<00:00, 7708.09it/s]\n"
          ]
        }
      ],
      "source": [
        "for user_id in tqdm(user_negative_samples):\n",
        "    user_negative_samples[user_id] = np.array(user_negative_samples[user_id])"
      ]
    },
    {
      "cell_type": "markdown",
      "id": "134c1419",
      "metadata": {
        "id": "134c1419"
      },
      "source": [
        "### 0.5. SGNS 모델에 사용할 데이터셋 만들기"
      ]
    },
    {
      "cell_type": "code",
      "execution_count": null,
      "id": "c08bd067",
      "metadata": {
        "id": "c08bd067"
      },
      "outputs": [],
      "source": [
        "new_positive_samples['user_id:token'] = new_positive_samples['user_id:token'].astype(\"category\")\n",
        "new_positive_samples['w_movie_id'] = new_positive_samples['w_movie_id'].astype(\"category\")\n",
        "new_positive_samples['c_movie_id'] = new_positive_samples['c_movie_id'].astype(\"category\")"
      ]
    },
    {
      "cell_type": "code",
      "execution_count": null,
      "id": "cb149e49",
      "metadata": {},
      "outputs": [
        {
          "data": {
            "text/html": [
              "<div>\n",
              "<style scoped>\n",
              "    .dataframe tbody tr th:only-of-type {\n",
              "        vertical-align: middle;\n",
              "    }\n",
              "\n",
              "    .dataframe tbody tr th {\n",
              "        vertical-align: top;\n",
              "    }\n",
              "\n",
              "    .dataframe thead th {\n",
              "        text-align: right;\n",
              "    }\n",
              "</style>\n",
              "<table border=\"1\" class=\"dataframe\">\n",
              "  <thead>\n",
              "    <tr style=\"text-align: right;\">\n",
              "      <th></th>\n",
              "      <th>user_id:token</th>\n",
              "      <th>w_movie_id</th>\n",
              "      <th>c_movie_id</th>\n",
              "    </tr>\n",
              "  </thead>\n",
              "  <tbody>\n",
              "    <tr>\n",
              "      <th>0</th>\n",
              "      <td>545955</td>\n",
              "      <td>54034</td>\n",
              "      <td>54464</td>\n",
              "    </tr>\n",
              "    <tr>\n",
              "      <th>1</th>\n",
              "      <td>545955</td>\n",
              "      <td>54464</td>\n",
              "      <td>54034</td>\n",
              "    </tr>\n",
              "    <tr>\n",
              "      <th>2</th>\n",
              "      <td>362248</td>\n",
              "      <td>47695</td>\n",
              "      <td>71669</td>\n",
              "    </tr>\n",
              "    <tr>\n",
              "      <th>3</th>\n",
              "      <td>362248</td>\n",
              "      <td>71669</td>\n",
              "      <td>47695</td>\n",
              "    </tr>\n",
              "    <tr>\n",
              "      <th>4</th>\n",
              "      <td>567072</td>\n",
              "      <td>53189</td>\n",
              "      <td>37665</td>\n",
              "    </tr>\n",
              "    <tr>\n",
              "      <th>...</th>\n",
              "      <td>...</td>\n",
              "      <td>...</td>\n",
              "      <td>...</td>\n",
              "    </tr>\n",
              "    <tr>\n",
              "      <th>10393029</th>\n",
              "      <td>614321</td>\n",
              "      <td>70299</td>\n",
              "      <td>54464</td>\n",
              "    </tr>\n",
              "    <tr>\n",
              "      <th>10393030</th>\n",
              "      <td>601255</td>\n",
              "      <td>30449</td>\n",
              "      <td>406</td>\n",
              "    </tr>\n",
              "    <tr>\n",
              "      <th>10393031</th>\n",
              "      <td>601255</td>\n",
              "      <td>406</td>\n",
              "      <td>30449</td>\n",
              "    </tr>\n",
              "    <tr>\n",
              "      <th>10393032</th>\n",
              "      <td>1060422</td>\n",
              "      <td>52718</td>\n",
              "      <td>51545</td>\n",
              "    </tr>\n",
              "    <tr>\n",
              "      <th>10393033</th>\n",
              "      <td>1060422</td>\n",
              "      <td>51545</td>\n",
              "      <td>52718</td>\n",
              "    </tr>\n",
              "  </tbody>\n",
              "</table>\n",
              "<p>10393034 rows × 3 columns</p>\n",
              "</div>"
            ],
            "text/plain": [
              "         user_id:token w_movie_id c_movie_id\n",
              "0               545955      54034      54464\n",
              "1               545955      54464      54034\n",
              "2               362248      47695      71669\n",
              "3               362248      71669      47695\n",
              "4               567072      53189      37665\n",
              "...                ...        ...        ...\n",
              "10393029        614321      70299      54464\n",
              "10393030        601255      30449        406\n",
              "10393031        601255        406      30449\n",
              "10393032       1060422      52718      51545\n",
              "10393033       1060422      51545      52718\n",
              "\n",
              "[10393034 rows x 3 columns]"
            ]
          },
          "execution_count": 13,
          "metadata": {},
          "output_type": "execute_result"
        }
      ],
      "source": [
        "new_positive_samples"
      ]
    },
    {
      "cell_type": "code",
      "execution_count": null,
      "id": "4ee7e411",
      "metadata": {
        "colab": {
          "base_uri": "https://localhost:8080/"
        },
        "id": "4ee7e411",
        "outputId": "2e67c492-8804-453a-fa94-2c8ef08fa99f"
      },
      "outputs": [
        {
          "name": "stdout",
          "output_type": "stream",
          "text": [
            "학습 데이터 크기: (8314427, 3)\n",
            "테스트 데이터 크기: (2078607, 3)\n"
          ]
        }
      ],
      "source": [
        "train_df, test_df = train_test_split(\n",
        "    new_positive_samples, random_state=seed, test_size=0.20\n",
        ")\n",
        "print('학습 데이터 크기:', train_df.shape)\n",
        "print('테스트 데이터 크기:', test_df.shape)"
      ]
    },
    {
      "cell_type": "code",
      "execution_count": null,
      "id": "7PMuBXsbTxWl",
      "metadata": {
        "id": "7PMuBXsbTxWl"
      },
      "outputs": [],
      "source": []
    },
    {
      "cell_type": "code",
      "execution_count": null,
      "id": "58c0989c",
      "metadata": {
        "id": "58c0989c"
      },
      "outputs": [],
      "source": [
        "# PyTorch의 DataLoader에서 사용할 수 있도록 변환\n",
        "train_dataset = TensorDataset(torch.LongTensor(np.array(train_df)))\n",
        "test_dataset = TensorDataset(torch.LongTensor(np.array(test_df)))"
      ]
    },
    {
      "cell_type": "markdown",
      "id": "f9e5cd7b",
      "metadata": {
        "id": "f9e5cd7b"
      },
      "source": [
        "---"
      ]
    },
    {
      "cell_type": "markdown",
      "id": "03d3db32",
      "metadata": {
        "id": "03d3db32"
      },
      "source": [
        "## 1. PyTorch로 SGNS 구현하기"
      ]
    },
    {
      "cell_type": "markdown",
      "id": "ea2f7a3e",
      "metadata": {
        "id": "ea2f7a3e"
      },
      "source": [
        "### <font color='#5F71F7'>과제 HOMEWORK (1)</font>\n",
        "### 1.1. `Negative Sampler` 클래스 구현하기\n",
        "- HINT: user_negative_samples에 user id 별 전체 negative samples 정보를 가진 Dictionary이다. (i.e. keys: user id, items: list of negative samples)"
      ]
    },
    {
      "cell_type": "code",
      "execution_count": null,
      "id": "6c49e6d9",
      "metadata": {
        "id": "6c49e6d9"
      },
      "outputs": [],
      "source": [
        "class Negative_Sampler(nn.Module):\n",
        "    \"\"\"\n",
        "    Negative Sampler\n",
        "\n",
        "    Args:\n",
        "        - user_negative_samples: (Dict) keys: user id, items: list of negative samples\n",
        "        - n_negs: (int) negative sample의 수\n",
        "    Shape:\n",
        "        - Input: (torch.Tensor) user id들. Shape: (batch size,)\n",
        "        - Output: (torch.Tensor) sampling된 negative samples. Shape: (batch size, n_negs)\n",
        "    \"\"\"\n",
        "    def __init__(self, user_negative_samples, n_negs):\n",
        "        super(Negative_Sampler, self).__init__()\n",
        "        self.user_negative_samples = user_negative_samples\n",
        "        self.n_negs = n_negs\n",
        "\n",
        "    def forward(self, user_ids):\n",
        "        user_ids = user_ids.to('cpu').numpy()\n",
        "        negative_samples = np.array([\n",
        "            # FILL HERE : USE np.random.choice(), self.user_negative_samples, self.n_negs #\n",
        "            np.random.choice(a=self.user_negative_samples[user_id], size=self.n_negs,replace=False)\n",
        "            for user_id in user_ids\n",
        "        ])\n",
        "        return torch.from_numpy(negative_samples)\n"
      ]
    },
    {
      "cell_type": "code",
      "execution_count": null,
      "id": "f28c14bc",
      "metadata": {
        "id": "f28c14bc"
      },
      "outputs": [],
      "source": [
        "class SGNS(nn.Module):\n",
        "    \"\"\"\n",
        "    Skip-Gram with Negative Sampling\n",
        "\n",
        "    Args:\n",
        "        - n_items: (int) 전체 아이템의 수\n",
        "        - emb_dim: (int) Embedding의 Dimension\n",
        "        - user_negative_samples: (Dict) user id 별 전체 negative sample\n",
        "        - n_negs: (int) negative sample의 수\n",
        "    Shape:\n",
        "        - Input: (torch.Tensor) input features, (user id, 중심 item id, 주변 item id). Shape: (batch size, 3)\n",
        "        - Output: (torch.Tensor) sampling된 negative samples와 positive sample의 Loss 합. Shape: ()\n",
        "    \"\"\"\n",
        "    def __init__(self, n_items, emb_dim, user_negative_samples, n_negs ,device=torch.device('cpu')):\n",
        "        super(SGNS, self).__init__()\n",
        "\n",
        "        # initialize Class attributes\n",
        "        self.n_items = n_items\n",
        "        self.emb_dim = emb_dim\n",
        "        self.user_negative_samples = user_negative_samples\n",
        "        self.n_negs = n_negs\n",
        "        self.negative_sampler = Negative_Sampler(self.user_negative_samples, self.n_negs)\n",
        "\n",
        "        # define embeddings\n",
        "        # 중심 아이템\n",
        "        self.w_item_embedding = nn.Embedding(self.n_items, self.emb_dim) # FILL HERE : USE nn.Embedding() #\n",
        "        # 주변 아이템\n",
        "        self.c_item_embedding = nn.Embedding(self.n_items, self.emb_dim) # FILL HERE : USE nn.Embedding() #\n",
        "\n",
        "        self.sigmoid = nn.Sigmoid()\n",
        "\n",
        "        self.loss_fn = nn.BCELoss()\n",
        "\n",
        "        self.apply(self._init_weights)\n",
        "        self.device = device\n",
        "        self.to(device)\n",
        "\n",
        "    # initialize weights\n",
        "    def _init_weights(self, module):\n",
        "        if isinstance(module, nn.Embedding):\n",
        "            normal_(module.weight.data, mean=0.0, std=0.01)\n",
        "\n",
        "    def forward(self, input_feature):\n",
        "        batch_size = input_feature.size()[0]\n",
        "\n",
        "        user_ids, w_item, c_item = torch.split(input_feature, [1, 1, 1], -1)\n",
        "        # 유저 id\n",
        "        user_ids = user_ids.squeeze(-1)\n",
        "        # 중심 아이템\n",
        "        w_item = w_item.squeeze(-1)\n",
        "        # 주변 아이템 (positive sample)\n",
        "        c_item = c_item.squeeze(-1)\n",
        "        # 주변 아이템 negative sampling\n",
        "        neg_c_items = self.negative_sampler(user_ids)\n",
        "\n",
        "        # 중심 아이템 embedding\n",
        "        w_item_e = self.w_item_embedding(w_item).to(self.device) # FILL HERE : USE self.w_item_embedding() #\n",
        "        # 주변 아이템 (positive sample) embedding\n",
        "        c_item_e = self.c_item_embedding(c_item).to(self.device) # FILL HERE : USE self.c_item_embedding() #\n",
        "        # 주변 아이템 (negative sample) embedding\n",
        "        neg_c_items_e = self.c_item_embedding(neg_c_items).to(self.device) # FILL HERE : USE self.c_item_embedding() #\n",
        "                         # HINT: neg_c_items_e.shape == (batch_size, self.n_negs, self.emb_dim)\n",
        "\n",
        "        w_item_e = w_item_e.view(batch_size, 1, self.emb_dim)\n",
        "        c_item_e = c_item_e.view(batch_size, self.emb_dim, 1)\n",
        "        neg_c_items_e = neg_c_items_e.permute(0, 2, 1)\n",
        "\n",
        "        pos_output = torch.bmm(w_item_e, c_item_e) # FILL HERE : Use torch.bmm() #\n",
        "        pos_output = pos_output.squeeze(-1)\n",
        "        pos_output = self.sigmoid(pos_output).squeeze(-1)\n",
        "\n",
        "        pos_y = torch.ones(pos_output.size()).to(self.device)\n",
        "        pos_loss = self.loss_fn(pos_output, pos_y)\n",
        "\n",
        "        neg_output = torch.bmm(w_item_e, neg_c_items_e) # FILL HERE : Use torch.bmm() #\n",
        "        neg_output = neg_output.squeeze(-1)\n",
        "        neg_output = self.sigmoid(neg_output)\n",
        "\n",
        "        neg_y = torch.zeros(neg_output.size()).to(self.device)\n",
        "        neg_loss = self.loss_fn(neg_output, neg_y)\n",
        "\n",
        "        return pos_loss + neg_loss\n"
      ]
    },
    {
      "cell_type": "markdown",
      "id": "ae0fdd07",
      "metadata": {
        "id": "ae0fdd07"
      },
      "source": [
        "### 1.3. SGNS 모델 학습하기"
      ]
    },
    {
      "cell_type": "code",
      "execution_count": null,
      "id": "88773198",
      "metadata": {
        "id": "88773198"
      },
      "outputs": [],
      "source": [
        "# Reference - https://pytorch.org/tutorials/beginner/basics/optimization_tutorial.html\n",
        "\n",
        "def train_loop(dataloader, model, optimizer, device):\n",
        "    size = len(dataloader.dataset)\n",
        "    num_batches = len(dataloader)\n",
        "    train_loss = 0\n",
        "\n",
        "    for batch, (X,) in enumerate(dataloader):\n",
        "        X = X.to(device)\n",
        "        # Compute prediction and loss\n",
        "        loss = model(X)\n",
        "        train_loss += loss.item()\n",
        "\n",
        "        # Backpropagation\n",
        "        optimizer.zero_grad()\n",
        "        loss.backward()\n",
        "        optimizer.step()\n",
        "\n",
        "\n",
        "        if (batch+1) % 100 == 0:\n",
        "            loss, current = loss.item(), (batch+1) * len(X)\n",
        "            print(f\"Loss: {loss:>7f} | [{current:>5d}/{size:>5d}]\")\n",
        "    train_loss /= num_batches\n",
        "\n",
        "    return train_loss\n",
        "\n",
        "\n",
        "def test_loop(dataloader, model, device):\n",
        "    size = len(dataloader.dataset)\n",
        "    num_batches = len(dataloader)\n",
        "    test_loss= 0\n",
        "\n",
        "    with torch.no_grad():\n",
        "        for X, in dataloader:\n",
        "            X= X.to(device)\n",
        "            loss = model(X)\n",
        "            test_loss += loss.item()\n",
        "    test_loss /= num_batches\n",
        "    print(f\"Test Error:\\n\\tAvg Loss: {test_loss:>8f}\")\n",
        "    return test_loss\n"
      ]
    },
    {
      "cell_type": "code",
      "execution_count": null,
      "id": "d26b47b8",
      "metadata": {
        "id": "d26b47b8"
      },
      "outputs": [],
      "source": [
        "def train_and_test(train_dataloader, test_dataloader, model, optimizer, epochs, device):\n",
        "    train_loss, test_loss = list(), list()\n",
        "\n",
        "    for t in range(epochs):\n",
        "        print(f\"Epoch {t+1}\\n-------------------------------\")\n",
        "        train_result= train_loop(train_dataloader, model, optimizer, device)\n",
        "        train_loss.append(train_result)\n",
        "        test_result = test_loop(test_dataloader, model, device)\n",
        "        test_loss.append(test_result)\n",
        "        print(\"-------------------------------\\n\")\n",
        "    print(\"Done!\")\n",
        "\n",
        "    return train_loss, test_loss\n"
      ]
    },
    {
      "cell_type": "code",
      "execution_count": null,
      "id": "8bf26adb",
      "metadata": {
        "id": "8bf26adb"
      },
      "outputs": [],
      "source": [
        "######## Hyperparameter ########\n",
        "import os\n",
        "os.environ['CUDA_LAUNCH_BLOCKING'] = \"1\"\n",
        "os.environ[\"CUDA_VISIBLE_DEVICES\"] = \"0\"\n",
        "\n",
        "batch_size = 2048\n",
        "data_shuffle = True\n",
        "emb_dim = 512\n",
        "epochs = 5\n",
        "learning_rate = 0.001\n",
        "\n",
        "n_items = ratings_df['item_id:token'].nunique()\n",
        "################################\n",
        "\n",
        "device = torch.device(\"cuda\" if torch.cuda.is_available() else \"cpu\")\n",
        "\n",
        "train_dataloader = DataLoader(train_dataset, batch_size=batch_size, shuffle=data_shuffle)\n",
        "test_dataloader = DataLoader(test_dataset, batch_size=batch_size, shuffle=data_shuffle)\n",
        "\n",
        "model = SGNS(n_items, emb_dim, user_negative_samples, negative, device)\n",
        "\n",
        "optimizer = torch.optim.Adam(model.parameters(), lr=learning_rate, amsgrad=True)"
      ]
    },
    {
      "cell_type": "code",
      "execution_count": null,
      "id": "abc8ec7b",
      "metadata": {
        "colab": {
          "base_uri": "https://localhost:8080/"
        },
        "id": "abc8ec7b",
        "outputId": "61bac3d9-168d-450e-a25c-dbdc85d89eb2"
      },
      "outputs": [
        {
          "name": "stdout",
          "output_type": "stream",
          "text": [
            "Epoch 1\n",
            "-------------------------------\n"
          ]
        },
        {
          "ename": "IndexError",
          "evalue": "index out of range in self",
          "output_type": "error",
          "traceback": [
            "\u001b[0;31m---------------------------------------------------------------------------\u001b[0m",
            "\u001b[0;31mIndexError\u001b[0m                                Traceback (most recent call last)",
            "\u001b[0;32m<ipython-input-34-f91d7522cecc>\u001b[0m in \u001b[0;36m<module>\u001b[0;34m\u001b[0m\n\u001b[0;32m----> 1\u001b[0;31m \u001b[0mtrain_loss\u001b[0m\u001b[0;34m,\u001b[0m \u001b[0mtest_loss\u001b[0m \u001b[0;34m=\u001b[0m \u001b[0mtrain_and_test\u001b[0m\u001b[0;34m(\u001b[0m\u001b[0mtrain_dataloader\u001b[0m\u001b[0;34m,\u001b[0m \u001b[0mtest_dataloader\u001b[0m\u001b[0;34m,\u001b[0m \u001b[0mmodel\u001b[0m\u001b[0;34m,\u001b[0m \u001b[0moptimizer\u001b[0m\u001b[0;34m,\u001b[0m \u001b[0mepochs\u001b[0m\u001b[0;34m,\u001b[0m \u001b[0mdevice\u001b[0m\u001b[0;34m)\u001b[0m\u001b[0;34m\u001b[0m\u001b[0;34m\u001b[0m\u001b[0m\n\u001b[0m",
            "\u001b[0;32m<ipython-input-28-d0d31d218705>\u001b[0m in \u001b[0;36mtrain_and_test\u001b[0;34m(train_dataloader, test_dataloader, model, optimizer, epochs, device)\u001b[0m\n\u001b[1;32m      4\u001b[0m     \u001b[0;32mfor\u001b[0m \u001b[0mt\u001b[0m \u001b[0;32min\u001b[0m \u001b[0mrange\u001b[0m\u001b[0;34m(\u001b[0m\u001b[0mepochs\u001b[0m\u001b[0;34m)\u001b[0m\u001b[0;34m:\u001b[0m\u001b[0;34m\u001b[0m\u001b[0;34m\u001b[0m\u001b[0m\n\u001b[1;32m      5\u001b[0m         \u001b[0mprint\u001b[0m\u001b[0;34m(\u001b[0m\u001b[0;34mf\"Epoch {t+1}\\n-------------------------------\"\u001b[0m\u001b[0;34m)\u001b[0m\u001b[0;34m\u001b[0m\u001b[0;34m\u001b[0m\u001b[0m\n\u001b[0;32m----> 6\u001b[0;31m         \u001b[0mtrain_result\u001b[0m\u001b[0;34m=\u001b[0m \u001b[0mtrain_loop\u001b[0m\u001b[0;34m(\u001b[0m\u001b[0mtrain_dataloader\u001b[0m\u001b[0;34m,\u001b[0m \u001b[0mmodel\u001b[0m\u001b[0;34m,\u001b[0m \u001b[0moptimizer\u001b[0m\u001b[0;34m,\u001b[0m \u001b[0mdevice\u001b[0m\u001b[0;34m)\u001b[0m\u001b[0;34m\u001b[0m\u001b[0;34m\u001b[0m\u001b[0m\n\u001b[0m\u001b[1;32m      7\u001b[0m         \u001b[0mtrain_loss\u001b[0m\u001b[0;34m.\u001b[0m\u001b[0mappend\u001b[0m\u001b[0;34m(\u001b[0m\u001b[0mtrain_result\u001b[0m\u001b[0;34m)\u001b[0m\u001b[0;34m\u001b[0m\u001b[0;34m\u001b[0m\u001b[0m\n\u001b[1;32m      8\u001b[0m         \u001b[0mtest_result\u001b[0m \u001b[0;34m=\u001b[0m \u001b[0mtest_loop\u001b[0m\u001b[0;34m(\u001b[0m\u001b[0mtest_dataloader\u001b[0m\u001b[0;34m,\u001b[0m \u001b[0mmodel\u001b[0m\u001b[0;34m,\u001b[0m \u001b[0mdevice\u001b[0m\u001b[0;34m)\u001b[0m\u001b[0;34m\u001b[0m\u001b[0;34m\u001b[0m\u001b[0m\n",
            "\u001b[0;32m<ipython-input-27-9ad6a18c525e>\u001b[0m in \u001b[0;36mtrain_loop\u001b[0;34m(dataloader, model, optimizer, device)\u001b[0m\n\u001b[1;32m      9\u001b[0m         \u001b[0mX\u001b[0m \u001b[0;34m=\u001b[0m \u001b[0mX\u001b[0m\u001b[0;34m.\u001b[0m\u001b[0mto\u001b[0m\u001b[0;34m(\u001b[0m\u001b[0mdevice\u001b[0m\u001b[0;34m)\u001b[0m\u001b[0;34m\u001b[0m\u001b[0;34m\u001b[0m\u001b[0m\n\u001b[1;32m     10\u001b[0m         \u001b[0;31m# Compute prediction and loss\u001b[0m\u001b[0;34m\u001b[0m\u001b[0;34m\u001b[0m\u001b[0;34m\u001b[0m\u001b[0m\n\u001b[0;32m---> 11\u001b[0;31m         \u001b[0mloss\u001b[0m \u001b[0;34m=\u001b[0m \u001b[0mmodel\u001b[0m\u001b[0;34m(\u001b[0m\u001b[0mX\u001b[0m\u001b[0;34m)\u001b[0m\u001b[0;34m\u001b[0m\u001b[0;34m\u001b[0m\u001b[0m\n\u001b[0m\u001b[1;32m     12\u001b[0m         \u001b[0mtrain_loss\u001b[0m \u001b[0;34m+=\u001b[0m \u001b[0mloss\u001b[0m\u001b[0;34m.\u001b[0m\u001b[0mitem\u001b[0m\u001b[0;34m(\u001b[0m\u001b[0;34m)\u001b[0m\u001b[0;34m\u001b[0m\u001b[0;34m\u001b[0m\u001b[0m\n\u001b[1;32m     13\u001b[0m \u001b[0;34m\u001b[0m\u001b[0m\n",
            "\u001b[0;32m/opt/conda/lib/python3.8/site-packages/torch/nn/modules/module.py\u001b[0m in \u001b[0;36m_call_impl\u001b[0;34m(self, *args, **kwargs)\u001b[0m\n\u001b[1;32m   1499\u001b[0m                 \u001b[0;32mor\u001b[0m \u001b[0m_global_backward_pre_hooks\u001b[0m \u001b[0;32mor\u001b[0m \u001b[0m_global_backward_hooks\u001b[0m\u001b[0;34m\u001b[0m\u001b[0;34m\u001b[0m\u001b[0m\n\u001b[1;32m   1500\u001b[0m                 or _global_forward_hooks or _global_forward_pre_hooks):\n\u001b[0;32m-> 1501\u001b[0;31m             \u001b[0;32mreturn\u001b[0m \u001b[0mforward_call\u001b[0m\u001b[0;34m(\u001b[0m\u001b[0;34m*\u001b[0m\u001b[0margs\u001b[0m\u001b[0;34m,\u001b[0m \u001b[0;34m**\u001b[0m\u001b[0mkwargs\u001b[0m\u001b[0;34m)\u001b[0m\u001b[0;34m\u001b[0m\u001b[0;34m\u001b[0m\u001b[0m\n\u001b[0m\u001b[1;32m   1502\u001b[0m         \u001b[0;31m# Do not call functions when jit is used\u001b[0m\u001b[0;34m\u001b[0m\u001b[0;34m\u001b[0m\u001b[0;34m\u001b[0m\u001b[0m\n\u001b[1;32m   1503\u001b[0m         \u001b[0mfull_backward_hooks\u001b[0m\u001b[0;34m,\u001b[0m \u001b[0mnon_full_backward_hooks\u001b[0m \u001b[0;34m=\u001b[0m \u001b[0;34m[\u001b[0m\u001b[0;34m]\u001b[0m\u001b[0;34m,\u001b[0m \u001b[0;34m[\u001b[0m\u001b[0;34m]\u001b[0m\u001b[0;34m\u001b[0m\u001b[0;34m\u001b[0m\u001b[0m\n",
            "\u001b[0;32m<ipython-input-26-b9105718e7a1>\u001b[0m in \u001b[0;36mforward\u001b[0;34m(self, input_feature)\u001b[0m\n\u001b[1;32m     55\u001b[0m \u001b[0;34m\u001b[0m\u001b[0m\n\u001b[1;32m     56\u001b[0m         \u001b[0;31m# 중심 아이템 embedding\u001b[0m\u001b[0;34m\u001b[0m\u001b[0;34m\u001b[0m\u001b[0;34m\u001b[0m\u001b[0m\n\u001b[0;32m---> 57\u001b[0;31m         \u001b[0mw_item_e\u001b[0m \u001b[0;34m=\u001b[0m \u001b[0mself\u001b[0m\u001b[0;34m.\u001b[0m\u001b[0mw_item_embedding\u001b[0m\u001b[0;34m(\u001b[0m\u001b[0mw_item\u001b[0m\u001b[0;34m)\u001b[0m\u001b[0;34m.\u001b[0m\u001b[0mto\u001b[0m\u001b[0;34m(\u001b[0m\u001b[0mself\u001b[0m\u001b[0;34m.\u001b[0m\u001b[0mdevice\u001b[0m\u001b[0;34m)\u001b[0m \u001b[0;31m# FILL HERE : USE self.w_item_embedding() #\u001b[0m\u001b[0;34m\u001b[0m\u001b[0;34m\u001b[0m\u001b[0m\n\u001b[0m\u001b[1;32m     58\u001b[0m         \u001b[0;31m# 주변 아이템 (positive sample) embedding\u001b[0m\u001b[0;34m\u001b[0m\u001b[0;34m\u001b[0m\u001b[0;34m\u001b[0m\u001b[0m\n\u001b[1;32m     59\u001b[0m         \u001b[0mc_item_e\u001b[0m \u001b[0;34m=\u001b[0m \u001b[0mself\u001b[0m\u001b[0;34m.\u001b[0m\u001b[0mc_item_embedding\u001b[0m\u001b[0;34m(\u001b[0m\u001b[0mc_item\u001b[0m\u001b[0;34m)\u001b[0m\u001b[0;34m.\u001b[0m\u001b[0mto\u001b[0m\u001b[0;34m(\u001b[0m\u001b[0mself\u001b[0m\u001b[0;34m.\u001b[0m\u001b[0mdevice\u001b[0m\u001b[0;34m)\u001b[0m \u001b[0;31m# FILL HERE : USE self.c_item_embedding() #\u001b[0m\u001b[0;34m\u001b[0m\u001b[0;34m\u001b[0m\u001b[0m\n",
            "\u001b[0;32m/opt/conda/lib/python3.8/site-packages/torch/nn/modules/module.py\u001b[0m in \u001b[0;36m_call_impl\u001b[0;34m(self, *args, **kwargs)\u001b[0m\n\u001b[1;32m   1499\u001b[0m                 \u001b[0;32mor\u001b[0m \u001b[0m_global_backward_pre_hooks\u001b[0m \u001b[0;32mor\u001b[0m \u001b[0m_global_backward_hooks\u001b[0m\u001b[0;34m\u001b[0m\u001b[0;34m\u001b[0m\u001b[0m\n\u001b[1;32m   1500\u001b[0m                 or _global_forward_hooks or _global_forward_pre_hooks):\n\u001b[0;32m-> 1501\u001b[0;31m             \u001b[0;32mreturn\u001b[0m \u001b[0mforward_call\u001b[0m\u001b[0;34m(\u001b[0m\u001b[0;34m*\u001b[0m\u001b[0margs\u001b[0m\u001b[0;34m,\u001b[0m \u001b[0;34m**\u001b[0m\u001b[0mkwargs\u001b[0m\u001b[0;34m)\u001b[0m\u001b[0;34m\u001b[0m\u001b[0;34m\u001b[0m\u001b[0m\n\u001b[0m\u001b[1;32m   1502\u001b[0m         \u001b[0;31m# Do not call functions when jit is used\u001b[0m\u001b[0;34m\u001b[0m\u001b[0;34m\u001b[0m\u001b[0;34m\u001b[0m\u001b[0m\n\u001b[1;32m   1503\u001b[0m         \u001b[0mfull_backward_hooks\u001b[0m\u001b[0;34m,\u001b[0m \u001b[0mnon_full_backward_hooks\u001b[0m \u001b[0;34m=\u001b[0m \u001b[0;34m[\u001b[0m\u001b[0;34m]\u001b[0m\u001b[0;34m,\u001b[0m \u001b[0;34m[\u001b[0m\u001b[0;34m]\u001b[0m\u001b[0;34m\u001b[0m\u001b[0;34m\u001b[0m\u001b[0m\n",
            "\u001b[0;32m/opt/conda/lib/python3.8/site-packages/torch/nn/modules/sparse.py\u001b[0m in \u001b[0;36mforward\u001b[0;34m(self, input)\u001b[0m\n\u001b[1;32m    160\u001b[0m \u001b[0;34m\u001b[0m\u001b[0m\n\u001b[1;32m    161\u001b[0m     \u001b[0;32mdef\u001b[0m \u001b[0mforward\u001b[0m\u001b[0;34m(\u001b[0m\u001b[0mself\u001b[0m\u001b[0;34m,\u001b[0m \u001b[0minput\u001b[0m\u001b[0;34m:\u001b[0m \u001b[0mTensor\u001b[0m\u001b[0;34m)\u001b[0m \u001b[0;34m->\u001b[0m \u001b[0mTensor\u001b[0m\u001b[0;34m:\u001b[0m\u001b[0;34m\u001b[0m\u001b[0;34m\u001b[0m\u001b[0m\n\u001b[0;32m--> 162\u001b[0;31m         return F.embedding(\n\u001b[0m\u001b[1;32m    163\u001b[0m             \u001b[0minput\u001b[0m\u001b[0;34m,\u001b[0m \u001b[0mself\u001b[0m\u001b[0;34m.\u001b[0m\u001b[0mweight\u001b[0m\u001b[0;34m,\u001b[0m \u001b[0mself\u001b[0m\u001b[0;34m.\u001b[0m\u001b[0mpadding_idx\u001b[0m\u001b[0;34m,\u001b[0m \u001b[0mself\u001b[0m\u001b[0;34m.\u001b[0m\u001b[0mmax_norm\u001b[0m\u001b[0;34m,\u001b[0m\u001b[0;34m\u001b[0m\u001b[0;34m\u001b[0m\u001b[0m\n\u001b[1;32m    164\u001b[0m             self.norm_type, self.scale_grad_by_freq, self.sparse)\n",
            "\u001b[0;32m/opt/conda/lib/python3.8/site-packages/torch/nn/functional.py\u001b[0m in \u001b[0;36membedding\u001b[0;34m(input, weight, padding_idx, max_norm, norm_type, scale_grad_by_freq, sparse)\u001b[0m\n\u001b[1;32m   2208\u001b[0m         \u001b[0;31m# remove once script supports set_grad_enabled\u001b[0m\u001b[0;34m\u001b[0m\u001b[0;34m\u001b[0m\u001b[0;34m\u001b[0m\u001b[0m\n\u001b[1;32m   2209\u001b[0m         \u001b[0m_no_grad_embedding_renorm_\u001b[0m\u001b[0;34m(\u001b[0m\u001b[0mweight\u001b[0m\u001b[0;34m,\u001b[0m \u001b[0minput\u001b[0m\u001b[0;34m,\u001b[0m \u001b[0mmax_norm\u001b[0m\u001b[0;34m,\u001b[0m \u001b[0mnorm_type\u001b[0m\u001b[0;34m)\u001b[0m\u001b[0;34m\u001b[0m\u001b[0;34m\u001b[0m\u001b[0m\n\u001b[0;32m-> 2210\u001b[0;31m     \u001b[0;32mreturn\u001b[0m \u001b[0mtorch\u001b[0m\u001b[0;34m.\u001b[0m\u001b[0membedding\u001b[0m\u001b[0;34m(\u001b[0m\u001b[0mweight\u001b[0m\u001b[0;34m,\u001b[0m \u001b[0minput\u001b[0m\u001b[0;34m,\u001b[0m \u001b[0mpadding_idx\u001b[0m\u001b[0;34m,\u001b[0m \u001b[0mscale_grad_by_freq\u001b[0m\u001b[0;34m,\u001b[0m \u001b[0msparse\u001b[0m\u001b[0;34m)\u001b[0m\u001b[0;34m\u001b[0m\u001b[0;34m\u001b[0m\u001b[0m\n\u001b[0m\u001b[1;32m   2211\u001b[0m \u001b[0;34m\u001b[0m\u001b[0m\n\u001b[1;32m   2212\u001b[0m \u001b[0;34m\u001b[0m\u001b[0m\n",
            "\u001b[0;31mIndexError\u001b[0m: index out of range in self"
          ]
        }
      ],
      "source": [
        "train_loss, test_loss = train_and_test(train_dataloader, test_dataloader, model, optimizer, epochs, device)"
      ]
    },
    {
      "cell_type": "markdown",
      "id": "23e35c9f",
      "metadata": {
        "id": "23e35c9f"
      },
      "source": [
        "### 1.4. SGNS 모델을 활용하여 가장 비슷한 영화 찾기\n",
        "- SGNS 모델의 중심 아이템 Embedding을 활용한다."
      ]
    },
    {
      "cell_type": "code",
      "execution_count": null,
      "id": "0a04379f",
      "metadata": {
        "id": "0a04379f"
      },
      "outputs": [],
      "source": [
        "def get_most_similar(\n",
        "    model: SGNS,\n",
        "    movie_id: int,\n",
        "    n: int,\n",
        "    n_movies: int\n",
        ") -> List:\n",
        "    \"\"\"\n",
        "    해당 movie id와 cosine similarity가 가장 높은 n개의 movie id를 반환합니다.\n",
        "\n",
        "    :param model: (SGNS) SGNS model\n",
        "    :param movie_id: (int) 기준이 되는 movie id\n",
        "    :param n: (int) 반환하는 movie의 수\n",
        "    :param n_movies: (int) 전체 movie의 수\n",
        "    :return: (List) n개의 movie id list\n",
        "    \"\"\"\n",
        "    input_tensor = torch.tensor(movie_id)\n",
        "    movie_embedding = model.w_item_embedding(input_tensor)\n",
        "    movie_embedding = movie_embedding.squeeze(-1)\n",
        "    similarity_list = list()\n",
        "    for m_id in range(n_movies):\n",
        "        if m_id == movie_id:\n",
        "            continue\n",
        "        m_tensor = torch.tensor(m_id)\n",
        "        m_embedding = model.w_item_embedding(m_tensor)\n",
        "        m_embedding = m_embedding.squeeze(-1)\n",
        "        similarity = torch.nn.CosineSimilarity(dim=0)(movie_embedding, m_embedding)\n",
        "        similarity_list.append((m_id, similarity.item()))\n",
        "    similarity_list.sort(key=lambda x: x[1], reverse=True)\n",
        "\n",
        "    return similarity_list[:n]"
      ]
    },
    {
      "cell_type": "markdown",
      "id": "b5463dce",
      "metadata": {
        "id": "b5463dce"
      },
      "source": [
        "### 1.5. SGNS 모델을 활용한 영화에 대한 연관 추천"
      ]
    },
    {
      "cell_type": "code",
      "execution_count": null,
      "id": "8914d9cd",
      "metadata": {
        "id": "8914d9cd"
      },
      "outputs": [],
      "source": [
        "genre_list = ['Action', 'Adventure', 'Animation',\n",
        "             'Children', 'Comedy', 'Crime', 'Documentary', 'Drama', 'Fantasy',\n",
        "             'Film-Noir', 'Horror', 'Musical', 'Mystery', 'Romance', 'Sci-Fi',\n",
        "             'Thriller', 'War', 'Western']"
      ]
    },
    {
      "cell_type": "markdown",
      "id": "cda4699d",
      "metadata": {
        "id": "cda4699d"
      },
      "source": [
        "#### Toy Story (1995) 예제"
      ]
    },
    {
      "cell_type": "markdown",
      "id": "5543fc0a",
      "metadata": {
        "id": "5543fc0a"
      },
      "source": [
        "![toy_story_info.PNG](data:image/png;base64,iVBORw0KGgoAAAANSUhEUgAAAS4AAAArCAYAAADG+mVEAAAAAXNSR0IArs4c6QAAAARnQU1BAACxjwv8YQUAAAAJcEhZcwAADsMAAA7DAcdvqGQAAAUYSURBVHhe7ZnbjuMwDEPn/396FgKWgFaVKNnpZOIuD2DEJnVxXTcv/foWQojD0ItLCHEcenEJIY5DL67/kK+v3//an7AHcS7Lt2f3wt11Ua1PHD/N3f2uwPZXef6zxZjKizqGJ66FmPJyc7rLVPm7eT/FXf2yPl67+3N3VPsxvfssANqqF5nECJHxcnN2L1OX91N1K+76UWR9vHbXPiZ0e+k+C4C26mVM44Tw/HNr7BL5kZHpu3lGl1vldbC8rNdu70kfjIzKgxZ9FtvRxU1rQ1v1MqZxQnhebk13kSp/J2+q7TDZZzUH072wuKkX42yd5U61jC5utV/nxZFR6UIwXm5Nd5F2L2DmT7UddvpV8wkW39X3dLFVnjGNi3Sxmc+0Xc+TaUJ0vNya7iJV/k6eadl4B1mdTqvmK8S8qk6mT/tP4yJdbOWbHgdgXiTzWLwQFS+3prtIlb+TN7m0k5iMaT+vYb7bE2Q1I5k+yTPgsZiMLn5ab7K3jMyb9hTC83JruotU+Tt5k0s7icmY9ouarVd6djWrWrt5wPwuJjKpOYHFwctippoQHS+3prtIlb+TN9V2mOzzHf27Gqwei2N5RudXTPcDmLbrgSxGiAnpzbELVV0qdtl28pDDcndgtVivnT2gXlW30g2Ww+j8CpZXeab74dn1jEwTYoJuzl+qH9fTeMc+n/A5Tzhr8Vx0e4QQx6EXlxDiOPTiEkIch15cQojj0ItLCHEcenEdyu6/cnf/m/ekfw9tLxhgsj8WM8k3pnG/ge0N4252ez73NAVl+wt/8+Xs6v3GjyEj7gPryf5YzPTzTePuJu7r7n3u9nvmaf5HbH9xD/khPGUfjGyP0K7uf5r/xHNi53IXu/2ed5o3YIeFA/MHB937RqUDaJkPLfOMTOtATsxFD4yMTPfxzI+e16MHKt3I8qBl3i6sTuyXxWYa6Dz4Ps5rXjegRa/SrzCpk/XzWlYDvo/zeD0+PZkGaudD8Ydh88nBRS9bs3xPpq2CGrFWtzaYFp9GjO/WkcqveqzWn8BqZN7KHirP6zZna8C06GWxq3Q1vJ/N49Pwc1D5Nse6y4vUzgfCDmfF69aA1bwCanT7mPaP9bIYED0Wa2Q+01brT2A12F7A1XzDa1U9lhe9qsYKrMZkL/FpTPI8VW4W6+Huh8EOzp7ZgOfp1gA14rhCzPdr5gGmxSewtR+euI5kPtNW609gNdhewNV8w2tVPdOzAc8T1zuwGpkX9xKfhs2zAS/itWqewd0Pgx0cO6jodWvAaoJJjMfi4wB+bsS1wbT4NGJ8t45kPtNW609gNdhewNV8w2tVvZU+LHbKSj8DWvU0sjyQeVkuqwH6iA8jHtTksKLXrQGrCSYxHtabeYBp8WnE+G4dyXymrdafsNLPWNnDJN/wWlVvpQ+LnZLVgDbxstgsD2Re1GzNaoA+4gPxhxOfnsrr1oDV3IX1Zh5gWnwace7XRlxHKj/WBZP6VU1GVXdSn/WrPK/bPK4zMh1a9FjsCqxuN49Pw89B5ds8xmf5GbOoDyE7lOwgMYCfG93ag1oYV4k1/Jp5gGnxCWztPeZHKt2oanmyfFaTgX4+f1I/iwGdB9/HTXIwQMyJayPTJqBXVTPqWMcnQA5GxOvRz+IzZlEfBA4NQ5yFvrOc089l9feoWyCEOA69uIQQx6EXlxDiOPTiEkIch15cQojj0ItLCHEcenEJIY5DLy4hxHHoxSWEOA69uIQQh/H9/QeUV2kizC2DhgAAAABJRU5ErkJggg==)"
      ]
    },
    {
      "cell_type": "code",
      "execution_count": null,
      "id": "175790a8",
      "metadata": {
        "id": "175790a8"
      },
      "outputs": [],
      "source": [
        "n = 10\n",
        "movie_id = 0\n",
        "n_movies = ratings_df['movie_id'].nunique()\n",
        "\n",
        "similar_movies = get_most_similar(model, movie_id, n, n_movies)"
      ]
    },
    {
      "cell_type": "markdown",
      "id": "99934c8a",
      "metadata": {
        "id": "99934c8a"
      },
      "source": [
        "#### Toy Story (1995)와 비슷한 영화 10개"
      ]
    },
    {
      "cell_type": "markdown",
      "id": "s0d06aBFbI9v",
      "metadata": {
        "id": "s0d06aBFbI9v"
      },
      "source": [
        "![toy_story_result.PNG](data:image/png;base64,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)"
      ]
    },
    {
      "cell_type": "code",
      "execution_count": null,
      "id": "83cf3a92",
      "metadata": {
        "colab": {
          "base_uri": "https://localhost:8080/"
        },
        "id": "83cf3a92",
        "outputId": "f6f03e09-20f9-43da-d742-ed9eb5f4378d"
      },
      "outputs": [],
      "source": [
        "for similar_movie_id, similarity in similar_movies:\n",
        "    temp_df = movies_df[movies_df.movie_id == similar_movie_id]\n",
        "    movie_title = temp_df['movie_title'].item()\n",
        "    genre_df = temp_df[genre_list]\n",
        "    genre = genre_df.columns[genre_df.iloc[0,:].values == 1]\n",
        "    print('title: %s\\n\\tgenre: %s\\n\\tcosine similarity: %.4f\\n' % (movie_title, ', '.join(genre), similarity))"
      ]
    },
    {
      "cell_type": "markdown",
      "id": "bf274fd8",
      "metadata": {
        "id": "bf274fd8"
      },
      "source": [
        "#### Heavy Metal (1981) 예제"
      ]
    },
    {
      "cell_type": "markdown",
      "id": "896f6511",
      "metadata": {
        "id": "896f6511"
      },
      "source": [
        "![heavy_metal_info.PNG](data:image/png;base64,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)"
      ]
    },
    {
      "cell_type": "code",
      "execution_count": null,
      "id": "f58b0ea5",
      "metadata": {
        "id": "f58b0ea5"
      },
      "outputs": [],
      "source": [
        "n = 10\n",
        "movie_id = 100\n",
        "n_movies = ratings_df['movie_id'].nunique()\n",
        "\n",
        "similar_movies = get_most_similar(model, movie_id, n, n_movies)"
      ]
    },
    {
      "cell_type": "markdown",
      "id": "9b824b39",
      "metadata": {
        "id": "9b824b39"
      },
      "source": [
        "#### Heavy Metal (1981)와 비슷한 영화 10개"
      ]
    },
    {
      "cell_type": "markdown",
      "id": "h3T9RCLgbNLI",
      "metadata": {
        "id": "h3T9RCLgbNLI"
      },
      "source": [
        "![heavy_metal_result.PNG](data:image/png;base64,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)"
      ]
    },
    {
      "cell_type": "code",
      "execution_count": null,
      "id": "4330d988",
      "metadata": {
        "colab": {
          "base_uri": "https://localhost:8080/"
        },
        "id": "4330d988",
        "outputId": "18ed83a9-1e72-4006-d6ab-05e1b3774342"
      },
      "outputs": [],
      "source": [
        "for similar_movie_id, similarity in similar_movies:\n",
        "    temp_df = movies_df[movies_df.movie_id == similar_movie_id]\n",
        "    movie_title = temp_df['movie_title'].item()\n",
        "    genre_df = temp_df[genre_list]\n",
        "    genre = genre_df.columns[genre_df.iloc[0,:].values == 1]\n",
        "    print('title: %s\\n\\tgenre: %s\\n\\tcosine similarity: %.4f\\n' % (movie_title, ', '.join(genre), similarity))"
      ]
    },
    {
      "cell_type": "markdown",
      "id": "_slLZvi8PeTQ",
      "metadata": {
        "id": "_slLZvi8PeTQ"
      },
      "source": [
        "## WARNING\n",
        "\n",
        "> 본 교육 콘텐츠의 지식재산권은 재단법인 네이버커넥트에 귀속됩니다.\n",
        "<br>본 콘텐츠를 어떠한 경로로든 외부로 유출 및 수정하는 행위를 엄격히 금합니다.\n",
        "<br>다만, 비영리적 교육 및 연구활동에 한정되어 사용할 수 있으나 재단의 허락을 받아야 합니다.\n",
        "<br>이를 위반하는 경우, 관련 법률에 따라 책임을 질 수 있습니다."
      ]
    }
  ],
  "metadata": {
    "colab": {
      "provenance": []
    },
    "kernelspec": {
      "display_name": "base",
      "language": "python",
      "name": "python3"
    },
    "language_info": {
      "codemirror_mode": {
        "name": "ipython",
        "version": 3
      },
      "file_extension": ".py",
      "mimetype": "text/x-python",
      "name": "python",
      "nbconvert_exporter": "python",
      "pygments_lexer": "ipython3",
      "version": "3.8.5"
    }
  },
  "nbformat": 4,
  "nbformat_minor": 5
}
